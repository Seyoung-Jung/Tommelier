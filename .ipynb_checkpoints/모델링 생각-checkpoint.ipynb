{
 "cells": [
  {
   "cell_type": "code",
   "execution_count": 1,
   "metadata": {},
   "outputs": [],
   "source": [
    "import os\n",
    "import sys\n",
    "import numpy as np\n",
    "import pandas as pd"
   ]
  },
  {
   "cell_type": "code",
   "execution_count": 2,
   "metadata": {},
   "outputs": [],
   "source": [
    "import tensorflow as tf\n",
    "class MaskedEmbeddingsAggregatorLayer(tf.keras.layers.Layer):\n",
    "    def __init__(self, agg_mode='sum', **kwargs):\n",
    "        super(MaskedEmbeddingsAggregatorLayer, self).__init__(**kwargs)\n",
    "\n",
    "        if agg_mode not in ['sum', 'mean']:\n",
    "            raise NotImplementedError('mode {} not implemented!'.format(agg_mode))\n",
    "        self.agg_mode = agg_mode\n",
    "    \n",
    "    @tf.function\n",
    "    def call(self, inputs, mask=None):\n",
    "        masked_embeddings = tf.ragged.boolean_mask(inputs, mask)\n",
    "        if self.agg_mode == 'sum':\n",
    "            aggregated =  tf.reduce_sum(masked_embeddings, axis=1)\n",
    "        elif self.agg_mode == 'mean':\n",
    "            aggregated = tf.reduce_mean(masked_embeddings, axis=1)\n",
    "        \n",
    "        return aggregated\n",
    "    \n",
    "    def get_config(self):\n",
    "        # this is used when loading a saved model that uses a custom layer\n",
    "        return {'agg_mode': self.agg_mode}"
   ]
  },
  {
   "cell_type": "code",
   "execution_count": 3,
   "metadata": {},
   "outputs": [],
   "source": [
    "class L2NormLayer(tf.keras.layers.Layer):\n",
    "    def __init__(self, **kwargs):\n",
    "        super(L2NormLayer, self).__init__(**kwargs)\n",
    "    \n",
    "    @tf.function\n",
    "    def call(self, inputs, mask=None):\n",
    "        if mask is not None:\n",
    "            inputs = tf.ragged.boolean_mask(inputs, mask).to_tensor()\n",
    "        return tf.math.l2_normalize(inputs, axis=-1)\n",
    "\n",
    "    def compute_mask(self, inputs, mask):\n",
    "        return mask"
   ]
  },
  {
   "cell_type": "code",
   "execution_count": 4,
   "metadata": {},
   "outputs": [],
   "source": [
    "EMBEDDING_DIMS = 16\n",
    "DENSE_UNITS = 64\n",
    "DROPOUT_PCT = 0.0\n",
    "ALPHA = 0.0\n",
    "NUM_CLASSES = 50858\n",
    "LEARNING_RATE = 0.003"
   ]
  },
  {
   "cell_type": "code",
   "execution_count": 7,
   "metadata": {},
   "outputs": [
    {
     "name": "stdout",
     "output_type": "stream",
     "text": [
      "WARNING:tensorflow:Entity <bound method L2NormLayer.call of <tensorflow.python.eager.function.TfMethodTarget object at 0x000002228FC3E2C8>> could not be transformed and will be executed as-is. Please report this to the AutoGraph team. When filing the bug, set the verbosity to 10 (on Linux, `export AUTOGRAPH_VERBOSITY=10`) and attach the full output. Cause: Bad argument number for Name: 3, expecting 4\n",
      "WARNING: Entity <bound method L2NormLayer.call of <tensorflow.python.eager.function.TfMethodTarget object at 0x000002228FC3E2C8>> could not be transformed and will be executed as-is. Please report this to the AutoGraph team. When filing the bug, set the verbosity to 10 (on Linux, `export AUTOGRAPH_VERBOSITY=10`) and attach the full output. Cause: Bad argument number for Name: 3, expecting 4\n",
      "WARNING:tensorflow:Entity <bound method MaskedEmbeddingsAggregatorLayer.call of <tensorflow.python.eager.function.TfMethodTarget object at 0x000002228FC48308>> could not be transformed and will be executed as-is. Please report this to the AutoGraph team. When filing the bug, set the verbosity to 10 (on Linux, `export AUTOGRAPH_VERBOSITY=10`) and attach the full output. Cause: Bad argument number for Name: 3, expecting 4\n",
      "WARNING: Entity <bound method MaskedEmbeddingsAggregatorLayer.call of <tensorflow.python.eager.function.TfMethodTarget object at 0x000002228FC48308>> could not be transformed and will be executed as-is. Please report this to the AutoGraph team. When filing the bug, set the verbosity to 10 (on Linux, `export AUTOGRAPH_VERBOSITY=10`) and attach the full output. Cause: Bad argument number for Name: 3, expecting 4\n"
     ]
    }
   ],
   "source": [
    "#---inputs\n",
    "import tensorflow as tf\n",
    "import datetime\n",
    "import os\n",
    "# wine_tot\n",
    "input_history = tf.keras.Input(shape=(None, ), name='wine_history')\n",
    "# predict label의 winery_id\n",
    "input_winery_id = tf.keras.Input(shape=(None, ), name='winery_Id')\n",
    "\n",
    "# predict label의 type_id\n",
    "\n",
    "input_type_id = tf.keras.Input(shape=(None, ), name='type_id')\n",
    "\n",
    "\n",
    "# food_one_hot_encoding\n",
    "input_food = tf.keras.layers.Input(shape=(None,), name='food')\n",
    "# predict label의 body, acidity, alcohol, winery_rating_count, like, rating avg\n",
    "input_wine_profile = tf.keras.Input(shape=(4, ), name='profile')\n",
    "\n",
    "\n",
    "#--- layers\n",
    "#features_embedding_layer = tf.keras.layers.Embedding(input_dim=NUM_CLASSES, output_dim=EMBEDDING_DIMS, \n",
    "#                                            mask_zero=True, trainable=True, name='features_embeddings')\n",
    "\n",
    "labels_embedding_layer = tf.keras.layers.Embedding(input_dim=NUM_CLASSES, output_dim=EMBEDDING_DIMS, \n",
    "                                            mask_zero=True, trainable=True, name='labels_embeddings')\n",
    "\n",
    "avg_embeddings = MaskedEmbeddingsAggregatorLayer(agg_mode='mean', name='aggregate_embeddings')\n",
    "\n",
    "dense_wine_profile = tf.keras.layers.Dense(units=DENSE_UNITS, name='dense_wine_profile')\n",
    "\n",
    "\n",
    "dense_1 = tf.keras.layers.Dense(units=DENSE_UNITS, name='dense_1')\n",
    "dense_2 = tf.keras.layers.Dense(units=DENSE_UNITS, name='dense_2')\n",
    "dense_3 = tf.keras.layers.Dense(units=DENSE_UNITS, name='dense_3')\n",
    "l2_norm_1 = L2NormLayer(name='l2_norm_1')\n",
    "\n",
    "dense_output = tf.keras.layers.Dense(NUM_CLASSES, activation=tf.nn.softmax, name='dense_output')\n",
    "\n",
    "# --- features\n",
    "\n",
    "# features_embeddings = features_embedding_layer(input_profile)\n",
    "# l2_norm_features = l2_norm_1(features_embeddings)\n",
    "# avg_features = avg_embeddings(l2_norm_features)\n",
    "\n",
    "# dense_profile = tf.keras.layers.Dense(units = 16, name='dense_profile')\n",
    "# dense_1_profile = dense_profile(input_profile)\n",
    "# dense_1_profile_relu = tf.keras.layers.ReLU(name='dense_1_profile_relu')(dense_1_profile)\n",
    "\n",
    "\n",
    "\n",
    "labels_history_embeddings = labels_embedding_layer(input_history)\n",
    "l2_norm_history = l2_norm_1(labels_history_embeddings)\n",
    "avg_history = avg_embeddings(l2_norm_history)\n",
    "\n",
    "labels_winery_id_embeddings = labels_embedding_layer(input_winery_id)\n",
    "l2_norm_winery_id = l2_norm_1(labels_winery_id_embeddings)\n",
    "avg_winery_id = avg_embeddings(l2_norm_winery_id)\n",
    "\n",
    "labels_type_id = labels_embedding_layer(input_type_id )\n",
    "l2_norm_type_id = l2_norm_1(labels_type_id)\n",
    "avg_type_id = avg_embeddings(l2_norm_type_id)\n",
    "\n",
    "dense_wine_profile_features = dense_wine_profile(input_wine_profile)\n",
    "dense_wine_profile_relu = tf.keras.layers.ReLU(name='dense_wine_profile_relu')(dense_wine_profile_features)\n",
    "dense_wine_profile_batch_norm = tf.keras.layers.BatchNormalization(name='dense_wine_profile_batch_norm')(dense_wine_profile_relu)\n",
    "\n",
    "\n",
    "\n",
    "\n",
    "concat_inputs = tf.keras.layers.Concatenate(axis=1)([\n",
    "                                                    #  avg_features,\n",
    "                                                    #  dense_1_profile_relu,\n",
    "                                                     avg_history,\n",
    "                                                     avg_winery_id,\n",
    "                                                     avg_type_id\n",
    "                                                     ])\n",
    "\n",
    "\n",
    "\n",
    "# Dense Layers\n",
    "dense_1_features = dense_1(concat_inputs)\n",
    "dense_1_relu = tf.keras.layers.ReLU(name='dense_1_relu')(dense_1_features)\n",
    "dense_1_batch_norm = tf.keras.layers.BatchNormalization(name='dense_1_batch_norm')(dense_1_relu)\n",
    "\n",
    "dense_2_features = dense_2(dense_1_relu)\n",
    "dense_2_relu = tf.keras.layers.ReLU(name='dense_2_relu')(dense_2_features)\n",
    "#dense_2_batch_norm = tf.keras.layers.BatchNormalization(name='dense_2_batch_norm')(dense_2_relu)\n",
    "\n",
    "dense_3_features = dense_3(dense_2_relu)\n",
    "dense_3_relu = tf.keras.layers.ReLU(name='dense_3_relu')(dense_3_features)\n",
    "dense_3_batch_norm = tf.keras.layers.BatchNormalization(name='dense_3_batch_norm')(dense_3_relu)\n",
    "outputs = dense_output(dense_3_batch_norm)\n",
    "\n",
    "#Optimizer\n",
    "optimiser = tf.keras.optimizers.Adam(learning_rate = LEARNING_RATE)\n",
    "\n",
    "#--- prep model\n",
    "model = tf.keras.models.Model(\n",
    "    inputs=[\n",
    "            # input_profile,\n",
    "            inp_liked, \n",
    "            inp_disliked\n",
    "            ,input_recent\n",
    "            ],\n",
    "    outputs=[outputs]\n",
    ")\n",
    "logdir = os.path.join(\"logs\", datetime.datetime.now().strftime(\"%Y%m%d-%H%M%S\"))\n",
    "tensorboard_callback = tf.keras.callbacks.TensorBoard(logdir, histogram_freq=1)\n",
    "model.compile(optimizer=optimiser, loss='sparse_categorical_crossentropy')"
   ]
  },
  {
   "cell_type": "code",
   "execution_count": 6,
   "metadata": {},
   "outputs": [
    {
     "name": "stdout",
     "output_type": "stream",
     "text": [
      "Failed to import pydot. You must install pydot and graphviz for `pydotprint` to work.\n"
     ]
    }
   ],
   "source": [
    "tf.keras.utils.plot_model(model, show_shapes=True, show_layer_names=True,dpi=96)"
   ]
  },
  {
   "cell_type": "code",
   "execution_count": null,
   "metadata": {},
   "outputs": [],
   "source": []
  },
  {
   "cell_type": "code",
   "execution_count": null,
   "metadata": {},
   "outputs": [],
   "source": []
  },
  {
   "cell_type": "code",
   "execution_count": null,
   "metadata": {},
   "outputs": [],
   "source": []
  },
  {
   "cell_type": "code",
   "execution_count": null,
   "metadata": {},
   "outputs": [],
   "source": []
  }
 ],
 "metadata": {
  "kernelspec": {
   "display_name": "Python 3",
   "language": "python",
   "name": "python3"
  },
  "language_info": {
   "codemirror_mode": {
    "name": "ipython",
    "version": 3
   },
   "file_extension": ".py",
   "mimetype": "text/x-python",
   "name": "python",
   "nbconvert_exporter": "python",
   "pygments_lexer": "ipython3",
   "version": "3.7.4"
  }
 },
 "nbformat": 4,
 "nbformat_minor": 2
}
