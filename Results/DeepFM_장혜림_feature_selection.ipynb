{
  "nbformat": 4,
  "nbformat_minor": 0,
  "metadata": {
    "colab": {
      "name": "DeepFM_장혜림_feature selection.ipynb",
      "provenance": [],
      "collapsed_sections": [],
      "machine_shape": "hm"
    },
    "kernelspec": {
      "name": "python3",
      "display_name": "Python 3"
    },
    "accelerator": "GPU"
  },
  "cells": [
    {
      "cell_type": "code",
      "metadata": {
        "colab": {
          "base_uri": "https://localhost:8080/"
        },
        "id": "1sr6Gbk5Q6ec",
        "outputId": "7d496968-72b5-43d7-f916-1413a5f7cdb7"
      },
      "source": [
        "from google.colab import drive\r\n",
        "drive.mount('/content/drive')\r\n",
        "\r\n",
        "%cd /content/drive/My Drive/wine_data\r\n",
        "\r\n",
        "import pandas as pd\r\n",
        "import numpy as np\r\n",
        "from sklearn.preprocessing import MultiLabelBinarizer\r\n",
        "from itertools import repeat\r\n",
        "from sklearn.preprocessing import MinMaxScaler\r\n",
        "import tensorflow as tf\r\n",
        "from time import perf_counter\r\n",
        "from sklearn.metrics import accuracy_score, roc_auc_score, precision_score\r\n",
        "import itertools\r\n",
        "import matplotlib.pyplot as plt"
      ],
      "execution_count": null,
      "outputs": [
        {
          "output_type": "stream",
          "text": [
            "Drive already mounted at /content/drive; to attempt to forcibly remount, call drive.mount(\"/content/drive\", force_remount=True).\n",
            "/content/drive/My Drive/wine_data\n"
          ],
          "name": "stdout"
        }
      ]
    },
    {
      "cell_type": "markdown",
      "metadata": {
        "id": "P7C58Upt5F22"
      },
      "source": [
        "##### DeepFM 패키지 사용"
      ]
    },
    {
      "cell_type": "code",
      "metadata": {
        "colab": {
          "base_uri": "https://localhost:8080/"
        },
        "id": "9r2dwjFa419-",
        "outputId": "32da6840-2066-4e68-9a92-18a196f138a6"
      },
      "source": [
        "pip install deepctr[gqu]"
      ],
      "execution_count": null,
      "outputs": [
        {
          "output_type": "stream",
          "text": [
            "Requirement already satisfied: deepctr[gqu] in /usr/local/lib/python3.6/dist-packages (0.8.2)\n",
            "\u001b[33m  WARNING: deepctr 0.8.2 does not provide the extra 'gqu'\u001b[0m\n",
            "Requirement already satisfied: h5py in /usr/local/lib/python3.6/dist-packages (from deepctr[gqu]) (2.10.0)\n",
            "Requirement already satisfied: requests in /usr/local/lib/python3.6/dist-packages (from deepctr[gqu]) (2.23.0)\n",
            "Requirement already satisfied: numpy>=1.7 in /usr/local/lib/python3.6/dist-packages (from h5py->deepctr[gqu]) (1.19.4)\n",
            "Requirement already satisfied: six in /usr/local/lib/python3.6/dist-packages (from h5py->deepctr[gqu]) (1.15.0)\n",
            "Requirement already satisfied: certifi>=2017.4.17 in /usr/local/lib/python3.6/dist-packages (from requests->deepctr[gqu]) (2020.12.5)\n",
            "Requirement already satisfied: urllib3!=1.25.0,!=1.25.1,<1.26,>=1.21.1 in /usr/local/lib/python3.6/dist-packages (from requests->deepctr[gqu]) (1.24.3)\n",
            "Requirement already satisfied: chardet<4,>=3.0.2 in /usr/local/lib/python3.6/dist-packages (from requests->deepctr[gqu]) (3.0.4)\n",
            "Requirement already satisfied: idna<3,>=2.5 in /usr/local/lib/python3.6/dist-packages (from requests->deepctr[gqu]) (2.10)\n"
          ],
          "name": "stdout"
        }
      ]
    },
    {
      "cell_type": "markdown",
      "metadata": {
        "id": "k3NuNV_zKpkZ"
      },
      "source": [
        "### 0. Data Load"
      ]
    },
    {
      "cell_type": "code",
      "metadata": {
        "id": "EBQcpHn50PDM"
      },
      "source": [
        "train_df = pd.read_json('train_all_meta_v2.json')\r\n",
        "test_df = pd.read_json('test_all_meta_v2.json')"
      ],
      "execution_count": null,
      "outputs": []
    },
    {
      "cell_type": "markdown",
      "metadata": {
        "id": "HnRzcZnnK2y6"
      },
      "source": [
        "### 1. Data Preprocess & feature selection"
      ]
    },
    {
      "cell_type": "code",
      "metadata": {
        "id": "QjAkgfPQ5OpL"
      },
      "source": [
        "# # feature.v1 (epoch 10: 0.8476)\r\n",
        "# X_train = train_df.loc[:,['rating_count','rating_average','body','acidity','alcohol','winery_ratings_count','winery_ratings_average','user_follower_count','user_following_count','user_rating_count','wine_id','userID','food','grapes','region_id']]\r\n",
        "# y_train = train_df['like']\r\n",
        "# X_test = test_df.loc[:,['rating_count','rating_average','body','acidity','alcohol','winery_ratings_count','winery_ratings_average','user_follower_count','user_following_count','user_rating_count','wine_id','userID','food','grapes','region_id']]\r\n",
        "# y_test = test_df['like']"
      ],
      "execution_count": null,
      "outputs": []
    },
    {
      "cell_type": "code",
      "metadata": {
        "id": "gPOMt9QTfCoD"
      },
      "source": [
        "# # feature.v2 (epoch 10: 0.8471)\r\n",
        "# X_train = train_df.loc[:,['rating_count','rating_average','body','acidity','alcohol','winery_ratings_count','winery_ratings_average','wine_id','userID','food','grapes','region_id']]\r\n",
        "# y_train = train_df['like']\r\n",
        "# X_test = test_df.loc[:,['rating_count','rating_average','body','acidity','alcohol','winery_ratings_count','winery_ratings_average','wine_id','userID','food','grapes','region_id']]\r\n",
        "# y_test = test_df['like']"
      ],
      "execution_count": null,
      "outputs": []
    },
    {
      "cell_type": "code",
      "metadata": {
        "id": "bJKcUfp7hYyW"
      },
      "source": [
        "# # feature.v3 (epoch 10: 0.852)\r\n",
        "# X_train = train_df.loc[:,['rating_count','rating_average','body','acidity','alcohol','wine_id','userID','food','grapes','region_id']]\r\n",
        "# y_train = train_df['like']\r\n",
        "# X_test = test_df.loc[:,['rating_count','rating_average','body','acidity','alcohol', 'wine_id','userID','food','grapes','region_id']]\r\n",
        "# y_test = test_df['like']"
      ],
      "execution_count": null,
      "outputs": []
    },
    {
      "cell_type": "code",
      "metadata": {
        "id": "k4WiajQ8j37V"
      },
      "source": [
        "# feature.v4 (epoch 10: 0.8539)\r\n",
        "X_train = train_df.loc[:,['rating_count','rating_average','wine_id','userID','food','grapes','region_id']]\r\n",
        "y_train = train_df['like']\r\n",
        "X_test = test_df.loc[:,['rating_count','rating_average', 'wine_id','userID','food','grapes','region_id']]\r\n",
        "y_test = test_df['like']"
      ],
      "execution_count": null,
      "outputs": []
    },
    {
      "cell_type": "code",
      "metadata": {
        "id": "USJftyIqlyYR"
      },
      "source": [
        "# # feature.v5 (epoch 10: 0.8499)\r\n",
        "# X_train = train_df.loc[:,['rating_average', 'wine_id','userID','food','grapes','region_id']]\r\n",
        "# y_train = train_df['like']\r\n",
        "# X_test = test_df.loc[:,['rating_average', 'wine_id','userID','food','grapes','region_id']]\r\n",
        "# y_test = test_df['like']"
      ],
      "execution_count": null,
      "outputs": []
    },
    {
      "cell_type": "code",
      "metadata": {
        "id": "hyRONKgPnxZz"
      },
      "source": [
        "# # feature.v6 (epoch 10: 0.8515)\r\n",
        "# X_train = train_df.loc[:,['rating_count', 'rating_average', 'wine_id','userID','food','grapes']]\r\n",
        "# y_train = train_df['like']\r\n",
        "# X_test = test_df.loc[:,['rating_count', 'rating_average', 'wine_id','userID','food','grapes']]\r\n",
        "# y_test = test_df['like']"
      ],
      "execution_count": null,
      "outputs": []
    },
    {
      "cell_type": "code",
      "metadata": {
        "id": "plM5H1-uprPo"
      },
      "source": [
        "# # feature.v7 (epoch 10: 0.8529)\r\n",
        "# X_train = train_df.loc[:,['rating_count','rating_average','wine_id','userID','grapes','region_id']]\r\n",
        "# y_train = train_df['like']\r\n",
        "# X_test = test_df.loc[:,['rating_count','rating_average', 'wine_id','userID','grapes','region_id']]\r\n",
        "# y_test = test_df['like']"
      ],
      "execution_count": null,
      "outputs": []
    },
    {
      "cell_type": "code",
      "metadata": {
        "id": "rO-kpdZarTlm"
      },
      "source": [
        "# # feature.v8 (epoch 10: 0.8509)\r\n",
        "# X_train = train_df.loc[:,['rating_count','rating_average','wine_id','userID','food','region_id']]\r\n",
        "# y_train = train_df['like']\r\n",
        "# X_test = test_df.loc[:,['rating_count','rating_average', 'wine_id','userID','food','region_id']]\r\n",
        "# y_test = test_df['like']"
      ],
      "execution_count": null,
      "outputs": []
    },
    {
      "cell_type": "code",
      "metadata": {
        "id": "oC2DHbpD7M3V"
      },
      "source": [
        "# food 리스트 -> str\r\n",
        "food_str = []\r\n",
        "for i in range(len(X_train['food'])):\r\n",
        "    if X_train['food'][i]:food_str.append(' '.join(X_train['food'][i]))\r\n",
        "    else:food_str.append(' ')\r\n",
        "X_train.food = pd.Series(food_str, name='food')\r\n",
        "\r\n",
        "food_str = []\r\n",
        "for i in range(len(X_test['food'])):\r\n",
        "    if X_test['food'][i]:food_str.append(' '.join(X_test['food'][i]))\r\n",
        "    else:food_str.append(' ')\r\n",
        "X_test.food = pd.Series(food_str, name='food')\r\n",
        "\r\n",
        "# grapes 리스트 -> str\r\n",
        "grapes_str = []\r\n",
        "for i in range(len(X_train['grapes'])):\r\n",
        "    if X_train['grapes'][i]:grapes_str.append(' '.join(X_train['grapes'][i]))\r\n",
        "    else:grapes_str.append(' ')\r\n",
        "X_train.grapes = pd.Series(grapes_str, name='grapes')\r\n",
        "\r\n",
        "grapes_str = []\r\n",
        "for i in range(len(X_test['grapes'])):\r\n",
        "    if X_test['grapes'][i]:grapes_str.append(' '.join(X_test['grapes'][i]))\r\n",
        "    else:grapes_str.append(' ')\r\n",
        "X_test.grapes = pd.Series(grapes_str, name='grapes')\r\n",
        "\r\n",
        "# userID, region_id -> str\r\n",
        "X_train.userID = X_train.userID.astype(str)\r\n",
        "X_train.region_id = X_train.region_id.astype(str)\r\n",
        "X_train.wine_id = X_train.wine_id.astype(str)\r\n",
        "\r\n",
        "X_test.userID = X_test.userID.astype(str)\r\n",
        "X_test.region_id = X_test.region_id.astype(str)\r\n",
        "X_test.wine_id = X_test.wine_id.astype(str)"
      ],
      "execution_count": null,
      "outputs": []
    },
    {
      "cell_type": "markdown",
      "metadata": {
        "id": "P5UZ6YRONnwB"
      },
      "source": [
        "### 2. Data Setting"
      ]
    },
    {
      "cell_type": "code",
      "metadata": {
        "id": "jiY_rWq9Nb-Z"
      },
      "source": [
        "from deepctr.models import DeepFM\r\n",
        "from deepctr.feature_column import SparseFeat, DenseFeat, get_feature_names\r\n",
        "from sklearn.preprocessing import LabelEncoder, MinMaxScaler\r\n",
        "from sklearn.metrics import accuracy_score, roc_auc_score\r\n",
        "\r\n",
        "# feature.v1 .v4\r\n",
        "sparse_features = ['userID', 'food', 'grapes', 'region_id', 'wine_id']\r\n",
        "\r\n",
        "# feature.v6\r\n",
        "# sparse_features = ['userID', 'food', 'grapes', 'wine_id']\r\n",
        "\r\n",
        "# feature.v7\r\n",
        "# sparse_features = ['userID', 'grapes', 'region_id', 'wine_id']\r\n",
        "\r\n",
        "# feature.v8\r\n",
        "# sparse_features = ['userID', 'food', 'region_id', 'wine_id']\r\n",
        "\r\n",
        "# feature.v1\r\n",
        "# dense_features = ['rating_count', 'rating_average', 'body', 'acidity', 'alcohol',\r\n",
        "#        'winery_ratings_count', 'winery_ratings_average', 'user_follower_count',\r\n",
        "#        'user_following_count', 'user_rating_count']\r\n",
        "\r\n",
        "# feature.v2\r\n",
        "# dense_features = ['rating_count', 'rating_average', 'body', 'acidity', 'alcohol',\r\n",
        "#        'winery_ratings_count', 'winery_ratings_average']\r\n",
        "\r\n",
        "# feature.v3\r\n",
        "# dense_features = ['rating_count', 'rating_average', 'body', 'acidity', 'alcohol']\r\n",
        "\r\n",
        "# feature.v4 .v6 .v7\r\n",
        "dense_features = ['rating_count', 'rating_average']\r\n",
        "\r\n",
        "# feature.v5\r\n",
        "# dense_features = ['rating_average']\r\n",
        "\r\n",
        "\r\n",
        "for feat in sparse_features:\r\n",
        "        lbe = LabelEncoder()\r\n",
        "        all = pd.concat([X_train[feat], X_test[feat]], axis=0).drop_duplicates() # train, test 전체를 묶어서 LabelEncoder fit\r\n",
        "        lbe = lbe.fit(all)\r\n",
        "        X_train[feat] = lbe.transform(X_train[feat])\r\n",
        "        X_test[feat] = lbe.transform(X_test[feat])\r\n",
        "\r\n",
        "mms = MinMaxScaler(feature_range=(0, 1))\r\n",
        "X_train[dense_features] = mms.fit_transform(X_train[dense_features])\r\n",
        "X_test[dense_features] = mms.transform(X_test[dense_features])\r\n",
        "\r\n",
        "fixlen_feature_columns = [SparseFeat(feat, vocabulary_size=pd.concat([X_train[feat], X_test[feat]], axis=0).drop_duplicates().nunique(),embedding_dim=4)  # vocabulary_size를 train, test 전체로부터\r\n",
        "                           for i,feat in enumerate(sparse_features)] + [DenseFeat(feat, 1,) for feat in dense_features]  \r\n",
        "\r\n",
        "dnn_feature_columns = fixlen_feature_columns\r\n",
        "linear_feature_columns = fixlen_feature_columns\r\n",
        "\r\n",
        "feature_names = get_feature_names(linear_feature_columns + dnn_feature_columns)\r\n",
        "\r\n",
        "# 결측치 mean으로 처리\r\n",
        "X_train.fillna(X_train.mean(), inplace=True)\r\n",
        "X_test.fillna(X_test.mean(), inplace=True)\r\n",
        "\r\n",
        "train_model_input = {name:X_train[name] for name in feature_names}\r\n",
        "test_model_input = {name:X_test[name] for name in feature_names}\r\n"
      ],
      "execution_count": null,
      "outputs": []
    },
    {
      "cell_type": "markdown",
      "metadata": {
        "id": "HdskPs5XN0Ah"
      },
      "source": [
        "### 3. Model"
      ]
    },
    {
      "cell_type": "code",
      "metadata": {
        "id": "0J_RdPQDN0l7"
      },
      "source": [
        "model = DeepFM(linear_feature_columns, dnn_feature_columns, task='binary')\r\n",
        "model.compile(\"adam\", \"binary_crossentropy\",metrics=['binary_crossentropy'])"
      ],
      "execution_count": null,
      "outputs": []
    },
    {
      "cell_type": "markdown",
      "metadata": {
        "id": "jq3GfAo4N5VB"
      },
      "source": [
        "### 4. Train & Result"
      ]
    },
    {
      "cell_type": "code",
      "metadata": {
        "colab": {
          "base_uri": "https://localhost:8080/"
        },
        "id": "F9_WBBZall-N",
        "outputId": "65bff1ac-055e-4338-b2c9-882120ffe3a7"
      },
      "source": [
        "history = model.fit(train_model_input, y_train.values,\r\n",
        "                    batch_size=256, epochs=100, verbose=2, validation_split=0.2)\r\n",
        "pred_ans = model.predict(test_model_input, batch_size=256)\r\n",
        "print(\"test AUC\", round(roc_auc_score(y_test.values, pred_ans), 4))\r\n",
        "print(\"\\ntest Auccuracy\", round(accuracy_score(y_test.values, pred_ans.round()), 4))"
      ],
      "execution_count": null,
      "outputs": [
        {
          "output_type": "stream",
          "text": [
            "Epoch 1/100\n",
            "2386/2386 - 28s - loss: 0.5689 - binary_crossentropy: 0.5671 - val_loss: 0.6557 - val_binary_crossentropy: 0.6527\n",
            "Epoch 2/100\n",
            "2386/2386 - 25s - loss: 0.5354 - binary_crossentropy: 0.5303 - val_loss: 0.6651 - val_binary_crossentropy: 0.6587\n",
            "Epoch 3/100\n",
            "2386/2386 - 24s - loss: 0.5173 - binary_crossentropy: 0.5090 - val_loss: 0.6715 - val_binary_crossentropy: 0.6622\n",
            "Epoch 4/100\n",
            "2386/2386 - 24s - loss: 0.5022 - binary_crossentropy: 0.4912 - val_loss: 0.7067 - val_binary_crossentropy: 0.6947\n",
            "Epoch 5/100\n",
            "2386/2386 - 24s - loss: 0.4897 - binary_crossentropy: 0.4761 - val_loss: 0.7329 - val_binary_crossentropy: 0.7182\n",
            "Epoch 6/100\n",
            "2386/2386 - 24s - loss: 0.4771 - binary_crossentropy: 0.4610 - val_loss: 0.7355 - val_binary_crossentropy: 0.7183\n",
            "Epoch 7/100\n",
            "2386/2386 - 24s - loss: 0.4636 - binary_crossentropy: 0.4453 - val_loss: 0.7284 - val_binary_crossentropy: 0.7091\n",
            "Epoch 8/100\n",
            "2386/2386 - 25s - loss: 0.4507 - binary_crossentropy: 0.4304 - val_loss: 0.7547 - val_binary_crossentropy: 0.7335\n",
            "Epoch 9/100\n",
            "2386/2386 - 24s - loss: 0.4401 - binary_crossentropy: 0.4181 - val_loss: 0.7741 - val_binary_crossentropy: 0.7513\n",
            "Epoch 10/100\n",
            "2386/2386 - 24s - loss: 0.4310 - binary_crossentropy: 0.4076 - val_loss: 0.7932 - val_binary_crossentropy: 0.7690\n",
            "Epoch 11/100\n",
            "2386/2386 - 24s - loss: 0.4232 - binary_crossentropy: 0.3985 - val_loss: 0.7971 - val_binary_crossentropy: 0.7718\n",
            "Epoch 12/100\n",
            "2386/2386 - 24s - loss: 0.4169 - binary_crossentropy: 0.3911 - val_loss: 0.8124 - val_binary_crossentropy: 0.7860\n",
            "Epoch 13/100\n",
            "2386/2386 - 25s - loss: 0.4115 - binary_crossentropy: 0.3848 - val_loss: 0.8010 - val_binary_crossentropy: 0.7737\n",
            "Epoch 14/100\n",
            "2386/2386 - 24s - loss: 0.4068 - binary_crossentropy: 0.3792 - val_loss: 0.8850 - val_binary_crossentropy: 0.8569\n",
            "Epoch 15/100\n",
            "2386/2386 - 24s - loss: 0.4022 - binary_crossentropy: 0.3738 - val_loss: 0.8506 - val_binary_crossentropy: 0.8218\n",
            "Epoch 16/100\n",
            "2386/2386 - 24s - loss: 0.3982 - binary_crossentropy: 0.3692 - val_loss: 0.8598 - val_binary_crossentropy: 0.8303\n",
            "Epoch 17/100\n",
            "2386/2386 - 24s - loss: 0.3948 - binary_crossentropy: 0.3652 - val_loss: 0.8532 - val_binary_crossentropy: 0.8232\n",
            "Epoch 18/100\n",
            "2386/2386 - 24s - loss: 0.3915 - binary_crossentropy: 0.3613 - val_loss: 0.8592 - val_binary_crossentropy: 0.8287\n",
            "Epoch 19/100\n",
            "2386/2386 - 24s - loss: 0.3885 - binary_crossentropy: 0.3579 - val_loss: 0.9043 - val_binary_crossentropy: 0.8734\n",
            "Epoch 20/100\n",
            "2386/2386 - 24s - loss: 0.3864 - binary_crossentropy: 0.3554 - val_loss: 0.8797 - val_binary_crossentropy: 0.8483\n",
            "Epoch 21/100\n",
            "2386/2386 - 25s - loss: 0.3833 - binary_crossentropy: 0.3518 - val_loss: 0.8975 - val_binary_crossentropy: 0.8657\n",
            "Epoch 22/100\n",
            "2386/2386 - 24s - loss: 0.3810 - binary_crossentropy: 0.3492 - val_loss: 0.8991 - val_binary_crossentropy: 0.8669\n",
            "Epoch 23/100\n",
            "2386/2386 - 24s - loss: 0.3790 - binary_crossentropy: 0.3468 - val_loss: 0.9088 - val_binary_crossentropy: 0.8763\n",
            "Epoch 24/100\n",
            "2386/2386 - 24s - loss: 0.3765 - binary_crossentropy: 0.3441 - val_loss: 0.9589 - val_binary_crossentropy: 0.9262\n",
            "Epoch 25/100\n",
            "2386/2386 - 25s - loss: 0.3752 - binary_crossentropy: 0.3425 - val_loss: 0.9347 - val_binary_crossentropy: 0.9017\n",
            "Epoch 26/100\n",
            "2386/2386 - 24s - loss: 0.3729 - binary_crossentropy: 0.3399 - val_loss: 0.9223 - val_binary_crossentropy: 0.8891\n",
            "Epoch 27/100\n",
            "2386/2386 - 24s - loss: 0.3719 - binary_crossentropy: 0.3388 - val_loss: 0.9414 - val_binary_crossentropy: 0.9079\n",
            "Epoch 28/100\n",
            "2386/2386 - 24s - loss: 0.3699 - binary_crossentropy: 0.3365 - val_loss: 0.9660 - val_binary_crossentropy: 0.9324\n",
            "Epoch 29/100\n",
            "2386/2386 - 24s - loss: 0.3687 - binary_crossentropy: 0.3351 - val_loss: 0.9799 - val_binary_crossentropy: 0.9461\n",
            "Epoch 30/100\n",
            "2386/2386 - 24s - loss: 0.3673 - binary_crossentropy: 0.3336 - val_loss: 1.0068 - val_binary_crossentropy: 0.9728\n",
            "Epoch 31/100\n",
            "2386/2386 - 24s - loss: 0.3659 - binary_crossentropy: 0.3320 - val_loss: 1.0035 - val_binary_crossentropy: 0.9694\n",
            "Epoch 32/100\n",
            "2386/2386 - 24s - loss: 0.3648 - binary_crossentropy: 0.3307 - val_loss: 1.0110 - val_binary_crossentropy: 0.9767\n",
            "Epoch 33/100\n",
            "2386/2386 - 24s - loss: 0.3632 - binary_crossentropy: 0.3290 - val_loss: 0.9740 - val_binary_crossentropy: 0.9396\n",
            "Epoch 34/100\n",
            "2386/2386 - 25s - loss: 0.3625 - binary_crossentropy: 0.3282 - val_loss: 0.9806 - val_binary_crossentropy: 0.9461\n",
            "Epoch 35/100\n",
            "2386/2386 - 24s - loss: 0.3617 - binary_crossentropy: 0.3273 - val_loss: 0.9995 - val_binary_crossentropy: 0.9648\n",
            "Epoch 36/100\n",
            "2386/2386 - 24s - loss: 0.3604 - binary_crossentropy: 0.3258 - val_loss: 1.0158 - val_binary_crossentropy: 0.9810\n",
            "Epoch 37/100\n",
            "2386/2386 - 24s - loss: 0.3602 - binary_crossentropy: 0.3255 - val_loss: 1.0419 - val_binary_crossentropy: 1.0070\n",
            "Epoch 38/100\n",
            "2386/2386 - 25s - loss: 0.3590 - binary_crossentropy: 0.3241 - val_loss: 1.0056 - val_binary_crossentropy: 0.9705\n",
            "Epoch 39/100\n",
            "2386/2386 - 24s - loss: 0.3578 - binary_crossentropy: 0.3229 - val_loss: 1.0212 - val_binary_crossentropy: 0.9861\n",
            "Epoch 40/100\n",
            "2386/2386 - 24s - loss: 0.3572 - binary_crossentropy: 0.3222 - val_loss: 1.0605 - val_binary_crossentropy: 1.0253\n",
            "Epoch 41/100\n",
            "2386/2386 - 24s - loss: 0.3560 - binary_crossentropy: 0.3209 - val_loss: 1.0081 - val_binary_crossentropy: 0.9728\n",
            "Epoch 42/100\n",
            "2386/2386 - 24s - loss: 0.3552 - binary_crossentropy: 0.3200 - val_loss: 1.0378 - val_binary_crossentropy: 1.0023\n",
            "Epoch 43/100\n",
            "2386/2386 - 24s - loss: 0.3549 - binary_crossentropy: 0.3195 - val_loss: 0.9920 - val_binary_crossentropy: 0.9565\n",
            "Epoch 44/100\n",
            "2386/2386 - 24s - loss: 0.3537 - binary_crossentropy: 0.3183 - val_loss: 0.9774 - val_binary_crossentropy: 0.9418\n",
            "Epoch 45/100\n",
            "2386/2386 - 24s - loss: 0.3530 - binary_crossentropy: 0.3175 - val_loss: 1.0122 - val_binary_crossentropy: 0.9765\n",
            "Epoch 46/100\n",
            "2386/2386 - 25s - loss: 0.3525 - binary_crossentropy: 0.3170 - val_loss: 0.9883 - val_binary_crossentropy: 0.9525\n",
            "Epoch 47/100\n",
            "2386/2386 - 24s - loss: 0.3518 - binary_crossentropy: 0.3161 - val_loss: 1.0286 - val_binary_crossentropy: 0.9928\n",
            "Epoch 48/100\n",
            "2386/2386 - 24s - loss: 0.3511 - binary_crossentropy: 0.3154 - val_loss: 1.0367 - val_binary_crossentropy: 1.0008\n",
            "Epoch 49/100\n",
            "2386/2386 - 24s - loss: 0.3510 - binary_crossentropy: 0.3152 - val_loss: 1.0728 - val_binary_crossentropy: 1.0368\n",
            "Epoch 50/100\n",
            "2386/2386 - 25s - loss: 0.3496 - binary_crossentropy: 0.3137 - val_loss: 1.0331 - val_binary_crossentropy: 0.9971\n",
            "Epoch 51/100\n",
            "2386/2386 - 24s - loss: 0.3495 - binary_crossentropy: 0.3135 - val_loss: 1.0927 - val_binary_crossentropy: 1.0566\n",
            "Epoch 52/100\n",
            "2386/2386 - 24s - loss: 0.3487 - binary_crossentropy: 0.3127 - val_loss: 1.0546 - val_binary_crossentropy: 1.0185\n",
            "Epoch 53/100\n",
            "2386/2386 - 24s - loss: 0.3483 - binary_crossentropy: 0.3123 - val_loss: 1.0775 - val_binary_crossentropy: 1.0413\n",
            "Epoch 54/100\n",
            "2386/2386 - 24s - loss: 0.3477 - binary_crossentropy: 0.3116 - val_loss: 1.0951 - val_binary_crossentropy: 1.0589\n",
            "Epoch 55/100\n",
            "2386/2386 - 24s - loss: 0.3467 - binary_crossentropy: 0.3106 - val_loss: 1.0697 - val_binary_crossentropy: 1.0334\n",
            "Epoch 56/100\n",
            "2386/2386 - 24s - loss: 0.3464 - binary_crossentropy: 0.3102 - val_loss: 1.0794 - val_binary_crossentropy: 1.0431\n",
            "Epoch 57/100\n",
            "2386/2386 - 24s - loss: 0.3464 - binary_crossentropy: 0.3101 - val_loss: 1.0665 - val_binary_crossentropy: 1.0301\n",
            "Epoch 58/100\n",
            "2386/2386 - 24s - loss: 0.3458 - binary_crossentropy: 0.3095 - val_loss: 1.1302 - val_binary_crossentropy: 1.0937\n",
            "Epoch 59/100\n",
            "2386/2386 - 25s - loss: 0.3452 - binary_crossentropy: 0.3088 - val_loss: 1.0612 - val_binary_crossentropy: 1.0247\n",
            "Epoch 60/100\n",
            "2386/2386 - 24s - loss: 0.3446 - binary_crossentropy: 0.3081 - val_loss: 1.1011 - val_binary_crossentropy: 1.0645\n",
            "Epoch 61/100\n",
            "2386/2386 - 24s - loss: 0.3445 - binary_crossentropy: 0.3079 - val_loss: 1.0762 - val_binary_crossentropy: 1.0395\n",
            "Epoch 62/100\n",
            "2386/2386 - 24s - loss: 0.3438 - binary_crossentropy: 0.3072 - val_loss: 1.0839 - val_binary_crossentropy: 1.0471\n",
            "Epoch 63/100\n",
            "2386/2386 - 25s - loss: 0.3435 - binary_crossentropy: 0.3068 - val_loss: 1.0969 - val_binary_crossentropy: 1.0601\n",
            "Epoch 64/100\n",
            "2386/2386 - 24s - loss: 0.3429 - binary_crossentropy: 0.3062 - val_loss: 1.0916 - val_binary_crossentropy: 1.0547\n",
            "Epoch 65/100\n",
            "2386/2386 - 24s - loss: 0.3425 - binary_crossentropy: 0.3057 - val_loss: 1.0948 - val_binary_crossentropy: 1.0578\n",
            "Epoch 66/100\n",
            "2386/2386 - 24s - loss: 0.3425 - binary_crossentropy: 0.3056 - val_loss: 1.0848 - val_binary_crossentropy: 1.0477\n",
            "Epoch 67/100\n",
            "2386/2386 - 24s - loss: 0.3424 - binary_crossentropy: 0.3054 - val_loss: 1.0734 - val_binary_crossentropy: 1.0362\n",
            "Epoch 68/100\n",
            "2386/2386 - 24s - loss: 0.3414 - binary_crossentropy: 0.3043 - val_loss: 1.1124 - val_binary_crossentropy: 1.0752\n",
            "Epoch 69/100\n",
            "2386/2386 - 24s - loss: 0.3419 - binary_crossentropy: 0.3048 - val_loss: 1.1077 - val_binary_crossentropy: 1.0704\n",
            "Epoch 70/100\n",
            "2386/2386 - 24s - loss: 0.3410 - binary_crossentropy: 0.3039 - val_loss: 1.0829 - val_binary_crossentropy: 1.0456\n",
            "Epoch 71/100\n",
            "2386/2386 - 24s - loss: 0.3410 - binary_crossentropy: 0.3038 - val_loss: 1.0549 - val_binary_crossentropy: 1.0176\n",
            "Epoch 72/100\n",
            "2386/2386 - 25s - loss: 0.3398 - binary_crossentropy: 0.3025 - val_loss: 1.1465 - val_binary_crossentropy: 1.1092\n",
            "Epoch 73/100\n",
            "2386/2386 - 24s - loss: 0.3399 - binary_crossentropy: 0.3026 - val_loss: 1.0793 - val_binary_crossentropy: 1.0419\n",
            "Epoch 74/100\n",
            "2386/2386 - 24s - loss: 0.3397 - binary_crossentropy: 0.3023 - val_loss: 1.0981 - val_binary_crossentropy: 1.0606\n",
            "Epoch 75/100\n",
            "2386/2386 - 24s - loss: 0.3392 - binary_crossentropy: 0.3017 - val_loss: 1.1359 - val_binary_crossentropy: 1.0984\n",
            "Epoch 76/100\n",
            "2386/2386 - 24s - loss: 0.3382 - binary_crossentropy: 0.3007 - val_loss: 1.1379 - val_binary_crossentropy: 1.1003\n",
            "Epoch 77/100\n",
            "2386/2386 - 24s - loss: 0.3385 - binary_crossentropy: 0.3010 - val_loss: 1.1538 - val_binary_crossentropy: 1.1161\n",
            "Epoch 78/100\n",
            "2386/2386 - 24s - loss: 0.3380 - binary_crossentropy: 0.3004 - val_loss: 1.1005 - val_binary_crossentropy: 1.0628\n",
            "Epoch 79/100\n",
            "2386/2386 - 24s - loss: 0.3375 - binary_crossentropy: 0.2999 - val_loss: 1.1137 - val_binary_crossentropy: 1.0760\n",
            "Epoch 80/100\n",
            "2386/2386 - 24s - loss: 0.3374 - binary_crossentropy: 0.2997 - val_loss: 1.1434 - val_binary_crossentropy: 1.1056\n",
            "Epoch 81/100\n",
            "2386/2386 - 24s - loss: 0.3368 - binary_crossentropy: 0.2991 - val_loss: 1.1440 - val_binary_crossentropy: 1.1062\n",
            "Epoch 82/100\n",
            "2386/2386 - 24s - loss: 0.3369 - binary_crossentropy: 0.2992 - val_loss: 1.0859 - val_binary_crossentropy: 1.0481\n",
            "Epoch 83/100\n",
            "2386/2386 - 24s - loss: 0.3368 - binary_crossentropy: 0.2990 - val_loss: 1.1143 - val_binary_crossentropy: 1.0764\n",
            "Epoch 84/100\n",
            "2386/2386 - 24s - loss: 0.3367 - binary_crossentropy: 0.2989 - val_loss: 1.1352 - val_binary_crossentropy: 1.0972\n",
            "Epoch 85/100\n",
            "2386/2386 - 25s - loss: 0.3361 - binary_crossentropy: 0.2982 - val_loss: 1.1250 - val_binary_crossentropy: 1.0870\n",
            "Epoch 86/100\n",
            "2386/2386 - 24s - loss: 0.3359 - binary_crossentropy: 0.2979 - val_loss: 1.1335 - val_binary_crossentropy: 1.0954\n",
            "Epoch 87/100\n",
            "2386/2386 - 24s - loss: 0.3352 - binary_crossentropy: 0.2972 - val_loss: 1.1611 - val_binary_crossentropy: 1.1230\n",
            "Epoch 88/100\n",
            "2386/2386 - 24s - loss: 0.3351 - binary_crossentropy: 0.2971 - val_loss: 1.1203 - val_binary_crossentropy: 1.0821\n",
            "Epoch 89/100\n",
            "2386/2386 - 24s - loss: 0.3350 - binary_crossentropy: 0.2969 - val_loss: 1.1051 - val_binary_crossentropy: 1.0668\n",
            "Epoch 90/100\n",
            "2386/2386 - 24s - loss: 0.3344 - binary_crossentropy: 0.2963 - val_loss: 1.1432 - val_binary_crossentropy: 1.1049\n",
            "Epoch 91/100\n",
            "2386/2386 - 24s - loss: 0.3348 - binary_crossentropy: 0.2966 - val_loss: 1.1346 - val_binary_crossentropy: 1.0963\n",
            "Epoch 92/100\n",
            "2386/2386 - 24s - loss: 0.3346 - binary_crossentropy: 0.2963 - val_loss: 1.1331 - val_binary_crossentropy: 1.0948\n",
            "Epoch 93/100\n",
            "2386/2386 - 24s - loss: 0.3344 - binary_crossentropy: 0.2961 - val_loss: 1.1211 - val_binary_crossentropy: 1.0827\n",
            "Epoch 94/100\n",
            "2386/2386 - 24s - loss: 0.3345 - binary_crossentropy: 0.2962 - val_loss: 1.1207 - val_binary_crossentropy: 1.0823\n",
            "Epoch 95/100\n",
            "2386/2386 - 24s - loss: 0.3331 - binary_crossentropy: 0.2948 - val_loss: 1.1474 - val_binary_crossentropy: 1.1090\n",
            "Epoch 96/100\n",
            "2386/2386 - 24s - loss: 0.3328 - binary_crossentropy: 0.2945 - val_loss: 1.1678 - val_binary_crossentropy: 1.1293\n",
            "Epoch 97/100\n",
            "2386/2386 - 24s - loss: 0.3336 - binary_crossentropy: 0.2952 - val_loss: 1.1531 - val_binary_crossentropy: 1.1146\n",
            "Epoch 98/100\n",
            "2386/2386 - 25s - loss: 0.3325 - binary_crossentropy: 0.2940 - val_loss: 1.1453 - val_binary_crossentropy: 1.1067\n",
            "Epoch 99/100\n",
            "2386/2386 - 24s - loss: 0.3328 - binary_crossentropy: 0.2943 - val_loss: 1.1222 - val_binary_crossentropy: 1.0836\n",
            "Epoch 100/100\n",
            "2386/2386 - 24s - loss: 0.3329 - binary_crossentropy: 0.2943 - val_loss: 1.1544 - val_binary_crossentropy: 1.1157\n",
            "test AUC 0.87\n",
            "\n",
            "test Auccuracy 0.8\n"
          ],
          "name": "stdout"
        }
      ]
    },
    {
      "cell_type": "code",
      "metadata": {
        "colab": {
          "base_uri": "https://localhost:8080/"
        },
        "id": "bDIFhryilnAS",
        "outputId": "aa673f52-be02-4f39-c645-fe789edcb79b"
      },
      "source": [
        "model.summary()"
      ],
      "execution_count": null,
      "outputs": [
        {
          "output_type": "stream",
          "text": [
            "Model: \"model\"\n",
            "__________________________________________________________________________________________________\n",
            "Layer (type)                    Output Shape         Param #     Connected to                     \n",
            "==================================================================================================\n",
            "userID (InputLayer)             [(None, 1)]          0                                            \n",
            "__________________________________________________________________________________________________\n",
            "food (InputLayer)               [(None, 1)]          0                                            \n",
            "__________________________________________________________________________________________________\n",
            "grapes (InputLayer)             [(None, 1)]          0                                            \n",
            "__________________________________________________________________________________________________\n",
            "region_id (InputLayer)          [(None, 1)]          0                                            \n",
            "__________________________________________________________________________________________________\n",
            "wine_id (InputLayer)            [(None, 1)]          0                                            \n",
            "__________________________________________________________________________________________________\n",
            "rating_count (InputLayer)       [(None, 1)]          0                                            \n",
            "__________________________________________________________________________________________________\n",
            "rating_average (InputLayer)     [(None, 1)]          0                                            \n",
            "__________________________________________________________________________________________________\n",
            "sparse_emb_userID (Embedding)   (None, 1, 4)         25372       userID[0][0]                     \n",
            "__________________________________________________________________________________________________\n",
            "sparse_emb_food (Embedding)     (None, 1, 4)         1592        food[0][0]                       \n",
            "__________________________________________________________________________________________________\n",
            "sparse_emb_grapes (Embedding)   (None, 1, 4)         20620       grapes[0][0]                     \n",
            "__________________________________________________________________________________________________\n",
            "sparse_emb_region_id (Embedding (None, 1, 4)         7640        region_id[0][0]                  \n",
            "__________________________________________________________________________________________________\n",
            "sparse_emb_wine_id (Embedding)  (None, 1, 4)         203420      wine_id[0][0]                    \n",
            "__________________________________________________________________________________________________\n",
            "no_mask_4 (NoMask)              (None, 1, 4)         0           sparse_emb_userID[0][0]          \n",
            "                                                                 sparse_emb_food[0][0]            \n",
            "                                                                 sparse_emb_grapes[0][0]          \n",
            "                                                                 sparse_emb_region_id[0][0]       \n",
            "                                                                 sparse_emb_wine_id[0][0]         \n",
            "__________________________________________________________________________________________________\n",
            "no_mask_5 (NoMask)              (None, 1)            0           rating_count[0][0]               \n",
            "                                                                 rating_average[0][0]             \n",
            "__________________________________________________________________________________________________\n",
            "concatenate_3 (Concatenate)     (None, 1, 20)        0           no_mask_4[0][0]                  \n",
            "                                                                 no_mask_4[1][0]                  \n",
            "                                                                 no_mask_4[2][0]                  \n",
            "                                                                 no_mask_4[3][0]                  \n",
            "                                                                 no_mask_4[4][0]                  \n",
            "__________________________________________________________________________________________________\n",
            "concatenate_4 (Concatenate)     (None, 2)            0           no_mask_5[0][0]                  \n",
            "                                                                 no_mask_5[1][0]                  \n",
            "__________________________________________________________________________________________________\n",
            "linear0sparse_emb_userID (Embed (None, 1, 1)         6343        userID[0][0]                     \n",
            "__________________________________________________________________________________________________\n",
            "linear0sparse_emb_food (Embeddi (None, 1, 1)         398         food[0][0]                       \n",
            "__________________________________________________________________________________________________\n",
            "linear0sparse_emb_grapes (Embed (None, 1, 1)         5155        grapes[0][0]                     \n",
            "__________________________________________________________________________________________________\n",
            "linear0sparse_emb_region_id (Em (None, 1, 1)         1910        region_id[0][0]                  \n",
            "__________________________________________________________________________________________________\n",
            "linear0sparse_emb_wine_id (Embe (None, 1, 1)         50855       wine_id[0][0]                    \n",
            "__________________________________________________________________________________________________\n",
            "flatten (Flatten)               (None, 20)           0           concatenate_3[0][0]              \n",
            "__________________________________________________________________________________________________\n",
            "flatten_1 (Flatten)             (None, 2)            0           concatenate_4[0][0]              \n",
            "__________________________________________________________________________________________________\n",
            "no_mask (NoMask)                (None, 1, 1)         0           linear0sparse_emb_userID[0][0]   \n",
            "                                                                 linear0sparse_emb_food[0][0]     \n",
            "                                                                 linear0sparse_emb_grapes[0][0]   \n",
            "                                                                 linear0sparse_emb_region_id[0][0]\n",
            "                                                                 linear0sparse_emb_wine_id[0][0]  \n",
            "__________________________________________________________________________________________________\n",
            "no_mask_1 (NoMask)              (None, 1)            0           rating_count[0][0]               \n",
            "                                                                 rating_average[0][0]             \n",
            "__________________________________________________________________________________________________\n",
            "no_mask_3 (NoMask)              (None, 1, 4)         0           sparse_emb_userID[0][0]          \n",
            "                                                                 sparse_emb_food[0][0]            \n",
            "                                                                 sparse_emb_grapes[0][0]          \n",
            "                                                                 sparse_emb_region_id[0][0]       \n",
            "                                                                 sparse_emb_wine_id[0][0]         \n",
            "__________________________________________________________________________________________________\n",
            "no_mask_6 (NoMask)              multiple             0           flatten[0][0]                    \n",
            "                                                                 flatten_1[0][0]                  \n",
            "__________________________________________________________________________________________________\n",
            "concatenate (Concatenate)       (None, 1, 5)         0           no_mask[0][0]                    \n",
            "                                                                 no_mask[1][0]                    \n",
            "                                                                 no_mask[2][0]                    \n",
            "                                                                 no_mask[3][0]                    \n",
            "                                                                 no_mask[4][0]                    \n",
            "__________________________________________________________________________________________________\n",
            "concatenate_1 (Concatenate)     (None, 2)            0           no_mask_1[0][0]                  \n",
            "                                                                 no_mask_1[1][0]                  \n",
            "__________________________________________________________________________________________________\n",
            "concatenate_2 (Concatenate)     (None, 5, 4)         0           no_mask_3[0][0]                  \n",
            "                                                                 no_mask_3[1][0]                  \n",
            "                                                                 no_mask_3[2][0]                  \n",
            "                                                                 no_mask_3[3][0]                  \n",
            "                                                                 no_mask_3[4][0]                  \n",
            "__________________________________________________________________________________________________\n",
            "concatenate_5 (Concatenate)     (None, 22)           0           no_mask_6[0][0]                  \n",
            "                                                                 no_mask_6[1][0]                  \n",
            "__________________________________________________________________________________________________\n",
            "linear (Linear)                 (None, 1)            2           concatenate[0][0]                \n",
            "                                                                 concatenate_1[0][0]              \n",
            "__________________________________________________________________________________________________\n",
            "fm (FM)                         (None, 1)            0           concatenate_2[0][0]              \n",
            "__________________________________________________________________________________________________\n",
            "dnn (DNN)                       (None, 128)          19456       concatenate_5[0][0]              \n",
            "__________________________________________________________________________________________________\n",
            "no_mask_2 (NoMask)              (None, 1)            0           linear[0][0]                     \n",
            "__________________________________________________________________________________________________\n",
            "add (Add)                       (None, 1)            0           fm[0][0]                         \n",
            "__________________________________________________________________________________________________\n",
            "dense (Dense)                   (None, 1)            128         dnn[0][0]                        \n",
            "__________________________________________________________________________________________________\n",
            "add_1 (Add)                     (None, 1)            0           no_mask_2[0][0]                  \n",
            "                                                                 add[0][0]                        \n",
            "                                                                 dense[0][0]                      \n",
            "__________________________________________________________________________________________________\n",
            "prediction_layer (PredictionLay (None, 1)            1           add_1[0][0]                      \n",
            "==================================================================================================\n",
            "Total params: 342,892\n",
            "Trainable params: 342,892\n",
            "Non-trainable params: 0\n",
            "__________________________________________________________________________________________________\n"
          ],
          "name": "stdout"
        }
      ]
    },
    {
      "cell_type": "code",
      "metadata": {
        "colab": {
          "base_uri": "https://localhost:8080/"
        },
        "id": "AztePQf056W7",
        "outputId": "a13e8c0c-368b-421f-8f1f-d15a88b0fc3f"
      },
      "source": [
        "from sklearn.metrics import classification_report\r\n",
        "\r\n",
        "y_pred = np.around(pred_ans)\r\n",
        "print(classification_report(y_test.values, y_pred))"
      ],
      "execution_count": null,
      "outputs": [
        {
          "output_type": "stream",
          "text": [
            "              precision    recall  f1-score   support\n",
            "\n",
            "           0       0.79      0.78      0.79     88227\n",
            "           1       0.81      0.81      0.81    100491\n",
            "\n",
            "    accuracy                           0.80    188718\n",
            "   macro avg       0.80      0.80      0.80    188718\n",
            "weighted avg       0.80      0.80      0.80    188718\n",
            "\n"
          ],
          "name": "stdout"
        }
      ]
    },
    {
      "cell_type": "code",
      "metadata": {
        "id": "stb_wr1uOcRh"
      },
      "source": [
        ""
      ],
      "execution_count": null,
      "outputs": []
    }
  ]
}