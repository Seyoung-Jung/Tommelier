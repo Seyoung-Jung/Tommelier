{
 "cells": [
  {
   "cell_type": "code",
   "execution_count": 20,
   "metadata": {
    "Collapsed": "false",
    "id": "MNWBiOHes5kz"
   },
   "outputs": [],
   "source": [
    "import os\n",
    "import sys\n",
    "\n",
    "import numpy as np\n",
    "import pandas as pd\n",
    "\n",
    "import tensorflow as tf\n",
    "from tensorflow import keras\n",
    "from tensorflow.keras import layers\n",
    "from tensorflow.keras.losses import binary_crossentropy"
   ]
  },
  {
   "cell_type": "markdown",
   "metadata": {
    "Collapsed": "false",
    "id": "naS7zFums5lG"
   },
   "source": [
    "# 0. Data Load"
   ]
  },
  {
   "cell_type": "code",
   "execution_count": 3,
   "metadata": {
    "Collapsed": "false",
    "id": "BsIYluZzs5lI"
   },
   "outputs": [],
   "source": [
    "train = pd.read_json(os.path.join('..', 'Data', 'train.json'))\n",
    "test = pd.read_json(os.path.join('..', 'Data', 'test.json'))"
   ]
  },
  {
   "cell_type": "code",
   "execution_count": 4,
   "metadata": {
    "Collapsed": "false",
    "colab": {
     "base_uri": "https://localhost:8080/",
     "height": 255
    },
    "id": "Vx2GQmlOs5lJ",
    "outputId": "851dd802-d4c2-4fb0-fc46-efd0f6afe242"
   },
   "outputs": [
    {
     "data": {
      "text/html": [
       "<div>\n",
       "<style scoped>\n",
       "    .dataframe tbody tr th:only-of-type {\n",
       "        vertical-align: middle;\n",
       "    }\n",
       "\n",
       "    .dataframe tbody tr th {\n",
       "        vertical-align: top;\n",
       "    }\n",
       "\n",
       "    .dataframe thead th {\n",
       "        text-align: right;\n",
       "    }\n",
       "</style>\n",
       "<table border=\"1\" class=\"dataframe\">\n",
       "  <thead>\n",
       "    <tr style=\"text-align: right;\">\n",
       "      <th></th>\n",
       "      <th>user_note</th>\n",
       "      <th>rating_per_user</th>\n",
       "      <th>vintage_id</th>\n",
       "      <th>user_like_count</th>\n",
       "      <th>userID</th>\n",
       "      <th>wine_id</th>\n",
       "      <th>wine_name</th>\n",
       "      <th>url</th>\n",
       "      <th>like</th>\n",
       "    </tr>\n",
       "  </thead>\n",
       "  <tbody>\n",
       "    <tr>\n",
       "      <th>0</th>\n",
       "      <td></td>\n",
       "      <td>4.0</td>\n",
       "      <td>142514980</td>\n",
       "      <td>0</td>\n",
       "      <td>19484511</td>\n",
       "      <td>2532733</td>\n",
       "      <td>Secateurs Red Blendn2016</td>\n",
       "      <td>/badenhorst-family-wines-secateurs-red-blend-s...</td>\n",
       "      <td>1</td>\n",
       "    </tr>\n",
       "    <tr>\n",
       "      <th>1</th>\n",
       "      <td></td>\n",
       "      <td>3.5</td>\n",
       "      <td>48346487</td>\n",
       "      <td>0</td>\n",
       "      <td>19484511</td>\n",
       "      <td>1253802</td>\n",
       "      <td>Kloof Street Swartland Rougen2015</td>\n",
       "      <td>/mullineux-kloof-street-swartland-rouge/w/1253...</td>\n",
       "      <td>0</td>\n",
       "    </tr>\n",
       "    <tr>\n",
       "      <th>2</th>\n",
       "      <td>Beautiful golden nectar</td>\n",
       "      <td>3.5</td>\n",
       "      <td>156865950</td>\n",
       "      <td>1</td>\n",
       "      <td>19484511</td>\n",
       "      <td>1123441</td>\n",
       "      <td>Late Harvestn2018</td>\n",
       "      <td>/stables-late-harvest/w/1123441?year=2018</td>\n",
       "      <td>0</td>\n",
       "    </tr>\n",
       "    <tr>\n",
       "      <th>3</th>\n",
       "      <td></td>\n",
       "      <td>3.5</td>\n",
       "      <td>150284640</td>\n",
       "      <td>0</td>\n",
       "      <td>19484511</td>\n",
       "      <td>1157656</td>\n",
       "      <td>Proseccon2017</td>\n",
       "      <td>/ruffino-prosecco/w/1157656?year=2017</td>\n",
       "      <td>0</td>\n",
       "    </tr>\n",
       "    <tr>\n",
       "      <th>4</th>\n",
       "      <td>Bright clean and refreshing</td>\n",
       "      <td>3.5</td>\n",
       "      <td>1471106</td>\n",
       "      <td>0</td>\n",
       "      <td>19484511</td>\n",
       "      <td>1134756</td>\n",
       "      <td>Prosecco TrevisonN.V.</td>\n",
       "      <td>/la-gioiosa-prosecco-treviso/w/1134756?year=N.V.</td>\n",
       "      <td>0</td>\n",
       "    </tr>\n",
       "  </tbody>\n",
       "</table>\n",
       "</div>"
      ],
      "text/plain": [
       "                      user_note  ...  like\n",
       "0                                ...     1\n",
       "1                                ...     0\n",
       "2       Beautiful golden nectar  ...     0\n",
       "3                                ...     0\n",
       "4  Bright clean and refreshing   ...     0\n",
       "\n",
       "[5 rows x 9 columns]"
      ]
     },
     "execution_count": 4,
     "metadata": {
      "tags": []
     },
     "output_type": "execute_result"
    }
   ],
   "source": [
    "train.head()"
   ]
  },
  {
   "cell_type": "markdown",
   "metadata": {
    "Collapsed": "false",
    "id": "4fVT2QD8s5lL"
   },
   "source": [
    "# 1. Data Process"
   ]
  },
  {
   "cell_type": "code",
   "execution_count": 5,
   "metadata": {
    "Collapsed": "false",
    "id": "OnrMDf3Ks5lM"
   },
   "outputs": [],
   "source": [
    "train = train[['userID', 'wine_id', 'like']]\n",
    "test = test[['userID', 'wine_id', 'like']]"
   ]
  },
  {
   "cell_type": "code",
   "execution_count": 6,
   "metadata": {
    "Collapsed": "false",
    "id": "oBzZL0PVs5lM"
   },
   "outputs": [],
   "source": [
    "user_ids = train['userID'].unique().tolist()\n",
    "user2user_encoded = {x: i for i, x in enumerate(user_ids)}\n",
    "userencoded2user = {i: x for i, x in enumerate(user_ids)}\n",
    "\n",
    "wine_ids = train['wine_id'].unique().tolist()\n",
    "wine2wine_encoded = {x: i for i, x in enumerate(wine_ids)}\n",
    "wine_encoded2wine = {i: x for i, x in enumerate(wine_ids)}"
   ]
  },
  {
   "cell_type": "code",
   "execution_count": 7,
   "metadata": {
    "Collapsed": "false",
    "id": "4_S4bkO3s5lN"
   },
   "outputs": [],
   "source": [
    "add_train = pd.DataFrame(zip(train['userID'].map(user2user_encoded), train[\"wine_id\"].map(wine2wine_encoded), train['like']),\n",
    "             columns = ['userID', 'wine_id', 'like'])\n",
    "\n",
    "add_test = pd.DataFrame(zip(test['userID'].map(user2user_encoded), test[\"wine_id\"].map(wine2wine_encoded), test['like']),\n",
    "             columns = ['userID', 'wine_id', 'like'])"
   ]
  },
  {
   "cell_type": "code",
   "execution_count": 8,
   "metadata": {
    "Collapsed": "false",
    "colab": {
     "base_uri": "https://localhost:8080/",
     "height": 419
    },
    "id": "oaoCxB9fs5lT",
    "outputId": "41851a14-5ae3-4ce4-e467-2832c127ce94"
   },
   "outputs": [
    {
     "data": {
      "text/html": [
       "<div>\n",
       "<style scoped>\n",
       "    .dataframe tbody tr th:only-of-type {\n",
       "        vertical-align: middle;\n",
       "    }\n",
       "\n",
       "    .dataframe tbody tr th {\n",
       "        vertical-align: top;\n",
       "    }\n",
       "\n",
       "    .dataframe thead th {\n",
       "        text-align: right;\n",
       "    }\n",
       "</style>\n",
       "<table border=\"1\" class=\"dataframe\">\n",
       "  <thead>\n",
       "    <tr style=\"text-align: right;\">\n",
       "      <th></th>\n",
       "      <th>userID</th>\n",
       "      <th>wine_id</th>\n",
       "      <th>like</th>\n",
       "    </tr>\n",
       "  </thead>\n",
       "  <tbody>\n",
       "    <tr>\n",
       "      <th>0</th>\n",
       "      <td>0</td>\n",
       "      <td>0</td>\n",
       "      <td>1</td>\n",
       "    </tr>\n",
       "    <tr>\n",
       "      <th>1</th>\n",
       "      <td>0</td>\n",
       "      <td>1</td>\n",
       "      <td>0</td>\n",
       "    </tr>\n",
       "    <tr>\n",
       "      <th>2</th>\n",
       "      <td>0</td>\n",
       "      <td>2</td>\n",
       "      <td>0</td>\n",
       "    </tr>\n",
       "    <tr>\n",
       "      <th>3</th>\n",
       "      <td>0</td>\n",
       "      <td>3</td>\n",
       "      <td>0</td>\n",
       "    </tr>\n",
       "    <tr>\n",
       "      <th>4</th>\n",
       "      <td>0</td>\n",
       "      <td>4</td>\n",
       "      <td>0</td>\n",
       "    </tr>\n",
       "    <tr>\n",
       "      <th>...</th>\n",
       "      <td>...</td>\n",
       "      <td>...</td>\n",
       "      <td>...</td>\n",
       "    </tr>\n",
       "    <tr>\n",
       "      <th>937751</th>\n",
       "      <td>6342</td>\n",
       "      <td>4672</td>\n",
       "      <td>0</td>\n",
       "    </tr>\n",
       "    <tr>\n",
       "      <th>937752</th>\n",
       "      <td>6342</td>\n",
       "      <td>1023</td>\n",
       "      <td>0</td>\n",
       "    </tr>\n",
       "    <tr>\n",
       "      <th>937753</th>\n",
       "      <td>6342</td>\n",
       "      <td>14075</td>\n",
       "      <td>1</td>\n",
       "    </tr>\n",
       "    <tr>\n",
       "      <th>937754</th>\n",
       "      <td>6342</td>\n",
       "      <td>3894</td>\n",
       "      <td>0</td>\n",
       "    </tr>\n",
       "    <tr>\n",
       "      <th>937755</th>\n",
       "      <td>6342</td>\n",
       "      <td>4067</td>\n",
       "      <td>1</td>\n",
       "    </tr>\n",
       "  </tbody>\n",
       "</table>\n",
       "<p>937756 rows × 3 columns</p>\n",
       "</div>"
      ],
      "text/plain": [
       "        userID  wine_id  like\n",
       "0            0        0     1\n",
       "1            0        1     0\n",
       "2            0        2     0\n",
       "3            0        3     0\n",
       "4            0        4     0\n",
       "...        ...      ...   ...\n",
       "937751    6342     4672     0\n",
       "937752    6342     1023     0\n",
       "937753    6342    14075     1\n",
       "937754    6342     3894     0\n",
       "937755    6342     4067     1\n",
       "\n",
       "[937756 rows x 3 columns]"
      ]
     },
     "execution_count": 8,
     "metadata": {
      "tags": []
     },
     "output_type": "execute_result"
    }
   ],
   "source": [
    "add_train"
   ]
  },
  {
   "cell_type": "code",
   "execution_count": 9,
   "metadata": {
    "Collapsed": "false",
    "id": "CK-E-ge5s5lU"
   },
   "outputs": [],
   "source": [
    "X = add_train[['userID', 'wine_id']].values\n",
    "y = add_train['like'].values"
   ]
  },
  {
   "cell_type": "code",
   "execution_count": 10,
   "metadata": {
    "Collapsed": "false",
    "id": "CMe-qdJYs5lU"
   },
   "outputs": [],
   "source": [
    "from sklearn.model_selection import train_test_split\n",
    "\n",
    "x_train, x_val, y_train, y_val = train_test_split(X, y, test_size = 0.2, random_state = 42)"
   ]
  },
  {
   "cell_type": "markdown",
   "metadata": {
    "Collapsed": "false",
    "id": "qogI_7Vvs5lV"
   },
   "source": [
    "# 2. Model"
   ]
  },
  {
   "cell_type": "code",
   "execution_count": 11,
   "metadata": {
    "Collapsed": "false",
    "id": "g8i4nnnVs5lV"
   },
   "outputs": [],
   "source": [
    "sys.path.append(os.path.join('..', 'Models'))\n",
    "import NeuralMF"
   ]
  },
  {
   "cell_type": "code",
   "execution_count": 12,
   "metadata": {
    "Collapsed": "false",
    "id": "Caoo4cjrs5lX"
   },
   "outputs": [],
   "source": [
    "num_users = len(user2user_encoded)\n",
    "num_itmes = len(wine_encoded2wine)\n",
    "\n",
    "EMBEDDING_SIZE = 50"
   ]
  },
  {
   "cell_type": "code",
   "execution_count": 21,
   "metadata": {
    "Collapsed": "false",
    "id": "OY1rJOLVs5lX"
   },
   "outputs": [],
   "source": [
    "model = NeuralMF.RecommenderNet(num_users, num_itmes, EMBEDDING_SIZE)\n",
    "\n",
    "model.compile(\n",
    "    loss = tf.keras.losses.BinaryCrossentropy(), \n",
    "    optimizer = keras.optimizers.Adam(lr = 0.001),\n",
    "    metrics=[\n",
    "        tf.keras.metrics.BinaryAccuracy(\n",
    "            name='binary_accuracy', dtype = None, threshold = 0.5)\n",
    "    ])"
   ]
  },
  {
   "cell_type": "markdown",
   "metadata": {
    "Collapsed": "false",
    "id": "zqBvGfsDs5lY"
   },
   "source": [
    "# 3. Train"
   ]
  },
  {
   "cell_type": "code",
   "execution_count": 22,
   "metadata": {
    "Collapsed": "false",
    "id": "GC3cCw4Jv_dV"
   },
   "outputs": [],
   "source": [
    "callbacks_list = [\n",
    "                  keras.callbacks.EarlyStopping(\n",
    "                      monitor = 'binary_accuracy',\n",
    "                      patience = 5\n",
    "                      )]"
   ]
  },
  {
   "cell_type": "code",
   "execution_count": 23,
   "metadata": {
    "Collapsed": "false",
    "colab": {
     "base_uri": "https://localhost:8080/"
    },
    "id": "S7z9c_yPs5lY",
    "outputId": "a9f4c7ed-b313-48fa-9050-2e14ce81d02b"
   },
   "outputs": [
    {
     "name": "stdout",
     "output_type": "stream",
     "text": [
      "Epoch 1/100\n",
      "5861/5861 [==============================] - 84s 14ms/step - loss: 0.6826 - binary_accuracy: 0.5661 - val_loss: 0.6791 - val_binary_accuracy: 0.5889\n",
      "Epoch 2/100\n",
      "5861/5861 [==============================] - 83s 14ms/step - loss: 0.7048 - binary_accuracy: 0.5807 - val_loss: 0.6963 - val_binary_accuracy: 0.5972\n",
      "Epoch 3/100\n",
      "5861/5861 [==============================] - 82s 14ms/step - loss: 0.7591 - binary_accuracy: 0.5825 - val_loss: 0.7269 - val_binary_accuracy: 0.6033\n",
      "Epoch 4/100\n",
      "5861/5861 [==============================] - 82s 14ms/step - loss: 0.8264 - binary_accuracy: 0.5899 - val_loss: 0.7638 - val_binary_accuracy: 0.5959\n",
      "Epoch 5/100\n",
      "5861/5861 [==============================] - 83s 14ms/step - loss: 1.0271 - binary_accuracy: 0.5571 - val_loss: 0.9233 - val_binary_accuracy: 0.5837\n",
      "Epoch 6/100\n",
      "5861/5861 [==============================] - 82s 14ms/step - loss: 1.4248 - binary_accuracy: 0.5605 - val_loss: 1.1497 - val_binary_accuracy: 0.5248\n",
      "Epoch 7/100\n",
      "5861/5861 [==============================] - 82s 14ms/step - loss: 1.7999 - binary_accuracy: 0.5109 - val_loss: 1.2663 - val_binary_accuracy: 0.5571\n",
      "Epoch 8/100\n",
      "5861/5861 [==============================] - 82s 14ms/step - loss: 1.6473 - binary_accuracy: 0.5634 - val_loss: 1.1065 - val_binary_accuracy: 0.5379\n",
      "Epoch 9/100\n",
      "5861/5861 [==============================] - 81s 14ms/step - loss: 1.4991 - binary_accuracy: 0.5355 - val_loss: 1.0643 - val_binary_accuracy: 0.5811\n",
      "Epoch 10/100\n",
      "5861/5861 [==============================] - 81s 14ms/step - loss: 1.3166 - binary_accuracy: 0.5841 - val_loss: 0.9761 - val_binary_accuracy: 0.5720\n",
      "Epoch 11/100\n",
      "5861/5861 [==============================] - 81s 14ms/step - loss: 1.3089 - binary_accuracy: 0.5578 - val_loss: 1.0225 - val_binary_accuracy: 0.5958\n",
      "Epoch 12/100\n",
      "5861/5861 [==============================] - 82s 14ms/step - loss: 1.2747 - binary_accuracy: 0.5935 - val_loss: 0.9781 - val_binary_accuracy: 0.5830\n",
      "Epoch 13/100\n",
      "5861/5861 [==============================] - 81s 14ms/step - loss: 1.3377 - binary_accuracy: 0.5638 - val_loss: 1.0473 - val_binary_accuracy: 0.6006\n",
      "Epoch 14/100\n",
      "5861/5861 [==============================] - 81s 14ms/step - loss: 1.4255 - binary_accuracy: 0.5887 - val_loss: 1.0576 - val_binary_accuracy: 0.5780\n",
      "Epoch 15/100\n",
      "5861/5861 [==============================] - 81s 14ms/step - loss: 1.4936 - binary_accuracy: 0.5575 - val_loss: 1.1355 - val_binary_accuracy: 0.5965\n",
      "Epoch 16/100\n",
      "5861/5861 [==============================] - 82s 14ms/step - loss: 1.4333 - binary_accuracy: 0.5938 - val_loss: 1.0609 - val_binary_accuracy: 0.5856\n",
      "Epoch 17/100\n",
      "5861/5861 [==============================] - 81s 14ms/step - loss: 1.4671 - binary_accuracy: 0.5665 - val_loss: 1.1471 - val_binary_accuracy: 0.6011\n",
      "Epoch 18/100\n",
      "5861/5861 [==============================] - 81s 14ms/step - loss: 1.4555 - binary_accuracy: 0.5971 - val_loss: 1.1020 - val_binary_accuracy: 0.5863\n",
      "Epoch 19/100\n",
      "5861/5861 [==============================] - 81s 14ms/step - loss: 1.5122 - binary_accuracy: 0.5672 - val_loss: 1.1606 - val_binary_accuracy: 0.6034\n",
      "Epoch 20/100\n",
      "5861/5861 [==============================] - 81s 14ms/step - loss: 1.4720 - binary_accuracy: 0.5991 - val_loss: 1.1058 - val_binary_accuracy: 0.5903\n",
      "Epoch 21/100\n",
      "5861/5861 [==============================] - 80s 14ms/step - loss: 1.5662 - binary_accuracy: 0.5653 - val_loss: 1.2396 - val_binary_accuracy: 0.6009\n",
      "Epoch 22/100\n",
      "5861/5861 [==============================] - 81s 14ms/step - loss: 1.5926 - binary_accuracy: 0.5965 - val_loss: 1.1253 - val_binary_accuracy: 0.5903\n",
      "Epoch 23/100\n",
      "5861/5861 [==============================] - 81s 14ms/step - loss: 1.6751 - binary_accuracy: 0.5641 - val_loss: 1.2516 - val_binary_accuracy: 0.6033\n",
      "Epoch 24/100\n",
      "5861/5861 [==============================] - 80s 14ms/step - loss: 1.5599 - binary_accuracy: 0.6032 - val_loss: 1.0685 - val_binary_accuracy: 0.6066\n",
      "Epoch 25/100\n",
      "5861/5861 [==============================] - 80s 14ms/step - loss: 1.5423 - binary_accuracy: 0.5759 - val_loss: 1.2915 - val_binary_accuracy: 0.6039\n",
      "Epoch 26/100\n",
      "5861/5861 [==============================] - 81s 14ms/step - loss: 1.5195 - binary_accuracy: 0.6072 - val_loss: 1.0846 - val_binary_accuracy: 0.6093\n",
      "Epoch 27/100\n",
      "5861/5861 [==============================] - 80s 14ms/step - loss: 1.5841 - binary_accuracy: 0.5780 - val_loss: 1.2785 - val_binary_accuracy: 0.6096\n",
      "Epoch 28/100\n",
      "5861/5861 [==============================] - 85s 14ms/step - loss: 1.5527 - binary_accuracy: 0.6090 - val_loss: 1.0976 - val_binary_accuracy: 0.6109\n",
      "Epoch 29/100\n",
      "5861/5861 [==============================] - 83s 14ms/step - loss: 1.6092 - binary_accuracy: 0.5788 - val_loss: 1.2695 - val_binary_accuracy: 0.6130\n",
      "Epoch 30/100\n",
      "5861/5861 [==============================] - 85s 15ms/step - loss: 1.6058 - binary_accuracy: 0.6065 - val_loss: 1.0993 - val_binary_accuracy: 0.6128\n",
      "Epoch 31/100\n",
      "5861/5861 [==============================] - 85s 15ms/step - loss: 1.6794 - binary_accuracy: 0.5760 - val_loss: 1.3437 - val_binary_accuracy: 0.6076\n",
      "Epoch 32/100\n",
      "5861/5861 [==============================] - 83s 14ms/step - loss: 1.6513 - binary_accuracy: 0.6074 - val_loss: 1.1358 - val_binary_accuracy: 0.6110\n",
      "Epoch 33/100\n",
      "5861/5861 [==============================] - 82s 14ms/step - loss: 1.6952 - binary_accuracy: 0.5792 - val_loss: 1.3177 - val_binary_accuracy: 0.6127\n",
      "Epoch 34/100\n",
      "5861/5861 [==============================] - 82s 14ms/step - loss: 1.6070 - binary_accuracy: 0.6115 - val_loss: 1.1215 - val_binary_accuracy: 0.6176\n",
      "Epoch 35/100\n",
      "5861/5861 [==============================] - 81s 14ms/step - loss: 1.6101 - binary_accuracy: 0.5853 - val_loss: 1.3342 - val_binary_accuracy: 0.6138\n",
      "Epoch 36/100\n",
      "5861/5861 [==============================] - 80s 14ms/step - loss: 1.5850 - binary_accuracy: 0.6155 - val_loss: 1.1015 - val_binary_accuracy: 0.6230\n",
      "Epoch 37/100\n",
      "5861/5861 [==============================] - 80s 14ms/step - loss: 1.6553 - binary_accuracy: 0.5870 - val_loss: 1.3695 - val_binary_accuracy: 0.6136\n",
      "Epoch 38/100\n",
      "5861/5861 [==============================] - 80s 14ms/step - loss: 1.5844 - binary_accuracy: 0.6177 - val_loss: 1.1536 - val_binary_accuracy: 0.6187\n",
      "Epoch 39/100\n",
      "5861/5861 [==============================] - 80s 14ms/step - loss: 1.6941 - binary_accuracy: 0.5833 - val_loss: 1.4022 - val_binary_accuracy: 0.6124\n",
      "Epoch 40/100\n",
      "5861/5861 [==============================] - 78s 13ms/step - loss: 1.6016 - binary_accuracy: 0.6176 - val_loss: 1.1366 - val_binary_accuracy: 0.6248\n",
      "Epoch 41/100\n",
      "5861/5861 [==============================] - 77s 13ms/step - loss: 1.6325 - binary_accuracy: 0.5919 - val_loss: 1.4131 - val_binary_accuracy: 0.6147\n",
      "Epoch 42/100\n",
      "5861/5861 [==============================] - 77s 13ms/step - loss: 1.5875 - binary_accuracy: 0.6232 - val_loss: 1.1646 - val_binary_accuracy: 0.6226\n",
      "Epoch 43/100\n",
      "5861/5861 [==============================] - 77s 13ms/step - loss: 1.6778 - binary_accuracy: 0.5898 - val_loss: 1.4334 - val_binary_accuracy: 0.6137\n",
      "Epoch 44/100\n",
      "5861/5861 [==============================] - 77s 13ms/step - loss: 1.6065 - binary_accuracy: 0.6207 - val_loss: 1.1526 - val_binary_accuracy: 0.6252\n",
      "Epoch 45/100\n",
      "5861/5861 [==============================] - 72s 12ms/step - loss: 1.7210 - binary_accuracy: 0.5876 - val_loss: 1.4816 - val_binary_accuracy: 0.6121\n",
      "Epoch 46/100\n",
      "5861/5861 [==============================] - 64s 11ms/step - loss: 1.6587 - binary_accuracy: 0.6198 - val_loss: 1.1524 - val_binary_accuracy: 0.6279\n",
      "Epoch 47/100\n",
      "5861/5861 [==============================] - 64s 11ms/step - loss: 1.6549 - binary_accuracy: 0.5951 - val_loss: 1.4655 - val_binary_accuracy: 0.6139\n",
      "Epoch 48/100\n",
      "5861/5861 [==============================] - 64s 11ms/step - loss: 1.6008 - binary_accuracy: 0.6256 - val_loss: 1.1442 - val_binary_accuracy: 0.6317\n",
      "Epoch 49/100\n",
      "5861/5861 [==============================] - 63s 11ms/step - loss: 1.6120 - binary_accuracy: 0.6015 - val_loss: 1.4240 - val_binary_accuracy: 0.6189\n",
      "Epoch 50/100\n",
      "5861/5861 [==============================] - 64s 11ms/step - loss: 1.5425 - binary_accuracy: 0.6300 - val_loss: 1.1700 - val_binary_accuracy: 0.6299\n",
      "Epoch 51/100\n",
      "5861/5861 [==============================] - 64s 11ms/step - loss: 1.6452 - binary_accuracy: 0.5999 - val_loss: 1.4579 - val_binary_accuracy: 0.6183\n",
      "Epoch 52/100\n",
      "5861/5861 [==============================] - 64s 11ms/step - loss: 1.6398 - binary_accuracy: 0.6240 - val_loss: 1.1670 - val_binary_accuracy: 0.6311\n",
      "Epoch 53/100\n",
      "5861/5861 [==============================] - 64s 11ms/step - loss: 1.6413 - binary_accuracy: 0.6038 - val_loss: 1.4792 - val_binary_accuracy: 0.6182\n",
      "Epoch 54/100\n",
      "5861/5861 [==============================] - 63s 11ms/step - loss: 1.6496 - binary_accuracy: 0.6266 - val_loss: 1.2291 - val_binary_accuracy: 0.6245\n",
      "Epoch 55/100\n",
      "5861/5861 [==============================] - 64s 11ms/step - loss: 1.8165 - binary_accuracy: 0.5892 - val_loss: 1.5590 - val_binary_accuracy: 0.6137\n",
      "Epoch 56/100\n",
      "5861/5861 [==============================] - 64s 11ms/step - loss: 1.6844 - binary_accuracy: 0.6260 - val_loss: 1.2027 - val_binary_accuracy: 0.6272\n",
      "Epoch 57/100\n",
      "5861/5861 [==============================] - 64s 11ms/step - loss: 1.7822 - binary_accuracy: 0.5958 - val_loss: 1.5443 - val_binary_accuracy: 0.6151\n",
      "Epoch 58/100\n",
      "5861/5861 [==============================] - 63s 11ms/step - loss: 1.6546 - binary_accuracy: 0.6295 - val_loss: 1.1936 - val_binary_accuracy: 0.6312\n",
      "Epoch 59/100\n",
      "5861/5861 [==============================] - 63s 11ms/step - loss: 1.6896 - binary_accuracy: 0.6055 - val_loss: 1.4756 - val_binary_accuracy: 0.6226\n",
      "Epoch 60/100\n",
      "5861/5861 [==============================] - 63s 11ms/step - loss: 1.5546 - binary_accuracy: 0.6371 - val_loss: 1.1847 - val_binary_accuracy: 0.6364\n",
      "Epoch 61/100\n",
      "5861/5861 [==============================] - 64s 11ms/step - loss: 1.6382 - binary_accuracy: 0.6104 - val_loss: 1.4773 - val_binary_accuracy: 0.6236\n",
      "Epoch 62/100\n",
      "5861/5861 [==============================] - 64s 11ms/step - loss: 1.6070 - binary_accuracy: 0.6336 - val_loss: 1.1790 - val_binary_accuracy: 0.6397\n",
      "Epoch 63/100\n",
      "5861/5861 [==============================] - 63s 11ms/step - loss: 1.6489 - binary_accuracy: 0.6085 - val_loss: 1.4948 - val_binary_accuracy: 0.6237\n",
      "Epoch 64/100\n",
      "5861/5861 [==============================] - 64s 11ms/step - loss: 1.6466 - binary_accuracy: 0.6344 - val_loss: 1.2061 - val_binary_accuracy: 0.6370\n",
      "Epoch 65/100\n",
      "5861/5861 [==============================] - 64s 11ms/step - loss: 1.6799 - binary_accuracy: 0.6067 - val_loss: 1.5224 - val_binary_accuracy: 0.6218\n",
      "Epoch 66/100\n",
      "5861/5861 [==============================] - 63s 11ms/step - loss: 1.6846 - binary_accuracy: 0.6317 - val_loss: 1.2083 - val_binary_accuracy: 0.6364\n",
      "Epoch 67/100\n",
      "5861/5861 [==============================] - 64s 11ms/step - loss: 1.7776 - binary_accuracy: 0.6023 - val_loss: 1.5573 - val_binary_accuracy: 0.6212\n",
      "Epoch 68/100\n",
      "5861/5861 [==============================] - 64s 11ms/step - loss: 1.7785 - binary_accuracy: 0.6273 - val_loss: 1.2673 - val_binary_accuracy: 0.6287\n",
      "Epoch 69/100\n",
      "5861/5861 [==============================] - 64s 11ms/step - loss: 1.8375 - binary_accuracy: 0.5970 - val_loss: 1.5805 - val_binary_accuracy: 0.6198\n",
      "Epoch 70/100\n",
      "5861/5861 [==============================] - 64s 11ms/step - loss: 1.7502 - binary_accuracy: 0.6313 - val_loss: 1.2213 - val_binary_accuracy: 0.6365\n",
      "Epoch 71/100\n",
      "5861/5861 [==============================] - 64s 11ms/step - loss: 1.7818 - binary_accuracy: 0.6024 - val_loss: 1.5701 - val_binary_accuracy: 0.6217\n",
      "Epoch 72/100\n",
      "5861/5861 [==============================] - 64s 11ms/step - loss: 1.6994 - binary_accuracy: 0.6341 - val_loss: 1.2160 - val_binary_accuracy: 0.6374\n",
      "Epoch 73/100\n",
      "5861/5861 [==============================] - 65s 11ms/step - loss: 1.7519 - binary_accuracy: 0.6065 - val_loss: 1.4785 - val_binary_accuracy: 0.6299\n",
      "Epoch 74/100\n",
      "5861/5861 [==============================] - 65s 11ms/step - loss: 1.6252 - binary_accuracy: 0.6403 - val_loss: 1.1909 - val_binary_accuracy: 0.6418\n",
      "Epoch 75/100\n",
      "5861/5861 [==============================] - 64s 11ms/step - loss: 1.6375 - binary_accuracy: 0.6156 - val_loss: 1.5010 - val_binary_accuracy: 0.6287\n",
      "Epoch 76/100\n",
      "5861/5861 [==============================] - 64s 11ms/step - loss: 1.5999 - binary_accuracy: 0.6418 - val_loss: 1.2080 - val_binary_accuracy: 0.6407\n",
      "Epoch 77/100\n",
      "5861/5861 [==============================] - 64s 11ms/step - loss: 1.6200 - binary_accuracy: 0.6179 - val_loss: 1.4780 - val_binary_accuracy: 0.6327\n",
      "Epoch 78/100\n",
      "5861/5861 [==============================] - 63s 11ms/step - loss: 1.5942 - binary_accuracy: 0.6430 - val_loss: 1.2305 - val_binary_accuracy: 0.6401\n",
      "Epoch 79/100\n",
      "5861/5861 [==============================] - 64s 11ms/step - loss: 1.6064 - binary_accuracy: 0.6178 - val_loss: 1.4928 - val_binary_accuracy: 0.6322\n",
      "Epoch 80/100\n",
      "5861/5861 [==============================] - 64s 11ms/step - loss: 1.5847 - binary_accuracy: 0.6441 - val_loss: 1.2083 - val_binary_accuracy: 0.6439\n",
      "Epoch 81/100\n",
      "5861/5861 [==============================] - 64s 11ms/step - loss: 1.6420 - binary_accuracy: 0.6195 - val_loss: 1.4674 - val_binary_accuracy: 0.6346\n",
      "Epoch 82/100\n",
      "5861/5861 [==============================] - 64s 11ms/step - loss: 1.5571 - binary_accuracy: 0.6457 - val_loss: 1.1907 - val_binary_accuracy: 0.6467\n",
      "Epoch 83/100\n",
      "5861/5861 [==============================] - 64s 11ms/step - loss: 1.6196 - binary_accuracy: 0.6206 - val_loss: 1.5074 - val_binary_accuracy: 0.6328\n",
      "Epoch 84/100\n",
      "5861/5861 [==============================] - 64s 11ms/step - loss: 1.6027 - binary_accuracy: 0.6437 - val_loss: 1.2177 - val_binary_accuracy: 0.6443\n",
      "Epoch 85/100\n",
      "5861/5861 [==============================] - 64s 11ms/step - loss: 1.6493 - binary_accuracy: 0.6205 - val_loss: 1.5259 - val_binary_accuracy: 0.6325\n",
      "Epoch 86/100\n",
      "5861/5861 [==============================] - 64s 11ms/step - loss: 1.6362 - binary_accuracy: 0.6424 - val_loss: 1.2265 - val_binary_accuracy: 0.6444\n",
      "Epoch 87/100\n",
      "5861/5861 [==============================] - 64s 11ms/step - loss: 1.6841 - binary_accuracy: 0.6186 - val_loss: 1.5496 - val_binary_accuracy: 0.6319\n",
      "Epoch 88/100\n",
      "5861/5861 [==============================] - 63s 11ms/step - loss: 1.6275 - binary_accuracy: 0.6441 - val_loss: 1.2520 - val_binary_accuracy: 0.6415\n",
      "Epoch 89/100\n",
      "5861/5861 [==============================] - 63s 11ms/step - loss: 1.6662 - binary_accuracy: 0.6186 - val_loss: 1.5432 - val_binary_accuracy: 0.6333\n",
      "Epoch 90/100\n",
      "5861/5861 [==============================] - 62s 11ms/step - loss: 1.6170 - binary_accuracy: 0.6447 - val_loss: 1.2546 - val_binary_accuracy: 0.6427\n",
      "Epoch 91/100\n",
      "5861/5861 [==============================] - 63s 11ms/step - loss: 1.6893 - binary_accuracy: 0.6188 - val_loss: 1.5453 - val_binary_accuracy: 0.6332\n",
      "Epoch 92/100\n",
      "5861/5861 [==============================] - 63s 11ms/step - loss: 1.6012 - binary_accuracy: 0.6467 - val_loss: 1.2194 - val_binary_accuracy: 0.6497\n",
      "Epoch 93/100\n",
      "5861/5861 [==============================] - 63s 11ms/step - loss: 1.6759 - binary_accuracy: 0.6204 - val_loss: 1.5417 - val_binary_accuracy: 0.6339\n",
      "Epoch 94/100\n",
      "5861/5861 [==============================] - 63s 11ms/step - loss: 1.6247 - binary_accuracy: 0.6479 - val_loss: 1.2114 - val_binary_accuracy: 0.6500\n",
      "Epoch 95/100\n",
      "5861/5861 [==============================] - 63s 11ms/step - loss: 1.6281 - binary_accuracy: 0.6259 - val_loss: 1.5551 - val_binary_accuracy: 0.6333\n",
      "Epoch 96/100\n",
      "5861/5861 [==============================] - 63s 11ms/step - loss: 1.6068 - binary_accuracy: 0.6506 - val_loss: 1.2147 - val_binary_accuracy: 0.6502\n",
      "Epoch 97/100\n",
      "5861/5861 [==============================] - 63s 11ms/step - loss: 1.6842 - binary_accuracy: 0.6207 - val_loss: 1.6368 - val_binary_accuracy: 0.6275\n",
      "Epoch 98/100\n",
      "5861/5861 [==============================] - 63s 11ms/step - loss: 1.6561 - binary_accuracy: 0.6452 - val_loss: 1.2074 - val_binary_accuracy: 0.6537\n",
      "Epoch 99/100\n",
      "5861/5861 [==============================] - 63s 11ms/step - loss: 1.6409 - binary_accuracy: 0.6256 - val_loss: 1.5818 - val_binary_accuracy: 0.6320\n",
      "Epoch 100/100\n",
      "5861/5861 [==============================] - 63s 11ms/step - loss: 1.5620 - binary_accuracy: 0.6534 - val_loss: 1.1924 - val_binary_accuracy: 0.6554\n"
     ]
    }
   ],
   "source": [
    "history = model.fit(\n",
    "    x = x_train,\n",
    "    y = y_train,\n",
    "    batch_size = 128,\n",
    "    epochs = 100,\n",
    "    verbose = 1,\n",
    "    validation_data = (x_val, y_val),\n",
    ")"
   ]
  }
 ],
 "metadata": {
  "accelerator": "GPU",
  "colab": {
   "name": "NeuralMF_main.ipynb",
   "provenance": [],
   "toc_visible": true
  },
  "kernelspec": {
   "display_name": "Python 3",
   "language": "python",
   "name": "python3"
  },
  "language_info": {
   "codemirror_mode": {
    "name": "ipython",
    "version": 3
   },
   "file_extension": ".py",
   "mimetype": "text/x-python",
   "name": "python",
   "nbconvert_exporter": "python",
   "pygments_lexer": "ipython3",
   "version": "3.7.6"
  }
 },
 "nbformat": 4,
 "nbformat_minor": 4
}
