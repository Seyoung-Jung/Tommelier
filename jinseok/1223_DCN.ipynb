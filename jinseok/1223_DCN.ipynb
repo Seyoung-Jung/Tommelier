{
 "cells": [
  {
   "cell_type": "code",
   "execution_count": 1,
   "metadata": {
    "Collapsed": "false"
   },
   "outputs": [],
   "source": [
    "!pip install -q tensorflow-recommenders\n",
    "!pip install -q --upgrade tensorflow-datasets"
   ]
  },
  {
   "cell_type": "code",
   "execution_count": 101,
   "metadata": {
    "Collapsed": "false"
   },
   "outputs": [],
   "source": [
    "import os\n",
    "import sys\n",
    "import gc\n",
    "import glob\n",
    "import joblib\n",
    "from tqdm import tqdm\n",
    "\n",
    "import numpy as np\n",
    "import pandas as pd\n",
    "import matplotlib.pyplot as plt\n",
    "%matplotlib inline\n",
    "\n",
    "import tensorflow as tf\n",
    "import tensorflow_recommenders as tfrs\n",
    "\n",
    "from tensorflow.keras.losses import binary_crossentropy\n",
    "from tensorflow.keras import backend as K\n",
    "from tensorflow.keras.layers import Lambda, Input, Dense, Dropout\n",
    "from tensorflow.keras.models import Model\n",
    "from tensorflow.keras.callbacks import LambdaCallback, EarlyStopping, Callback\n",
    "from tensorflow.keras.utils import plot_model"
   ]
  },
  {
   "cell_type": "markdown",
   "metadata": {
    "Collapsed": "false"
   },
   "source": [
    "# 0. Data Load"
   ]
  },
  {
   "cell_type": "code",
   "execution_count": 4,
   "metadata": {
    "Collapsed": "false"
   },
   "outputs": [],
   "source": [
    "train = pd.read_json(os.path.join('data', 'user_train_test', 'user_train_v2.json'))"
   ]
  },
  {
   "cell_type": "code",
   "execution_count": 6,
   "metadata": {
    "Collapsed": "false"
   },
   "outputs": [],
   "source": [
    "test = pd.read_json(os.path.join('data', 'user_train_test', 'user_test_v2.json'))"
   ]
  },
  {
   "cell_type": "code",
   "execution_count": 7,
   "metadata": {
    "Collapsed": "false"
   },
   "outputs": [
    {
     "data": {
      "text/html": [
       "<div>\n",
       "<style scoped>\n",
       "    .dataframe tbody tr th:only-of-type {\n",
       "        vertical-align: middle;\n",
       "    }\n",
       "\n",
       "    .dataframe tbody tr th {\n",
       "        vertical-align: top;\n",
       "    }\n",
       "\n",
       "    .dataframe thead th {\n",
       "        text-align: right;\n",
       "    }\n",
       "</style>\n",
       "<table border=\"1\" class=\"dataframe\">\n",
       "  <thead>\n",
       "    <tr style=\"text-align: right;\">\n",
       "      <th></th>\n",
       "      <th>user_note</th>\n",
       "      <th>rating_per_user</th>\n",
       "      <th>vintage_id</th>\n",
       "      <th>user_like_count</th>\n",
       "      <th>userID</th>\n",
       "      <th>wine_id</th>\n",
       "      <th>wine_name</th>\n",
       "      <th>url</th>\n",
       "      <th>like</th>\n",
       "    </tr>\n",
       "  </thead>\n",
       "  <tbody>\n",
       "    <tr>\n",
       "      <th>0</th>\n",
       "      <td></td>\n",
       "      <td>4.0</td>\n",
       "      <td>142514980</td>\n",
       "      <td>0</td>\n",
       "      <td>19484511</td>\n",
       "      <td>2532733</td>\n",
       "      <td>Secateurs Red Blendn2016</td>\n",
       "      <td>/badenhorst-family-wines-secateurs-red-blend-s...</td>\n",
       "      <td>1</td>\n",
       "    </tr>\n",
       "    <tr>\n",
       "      <th>1</th>\n",
       "      <td></td>\n",
       "      <td>3.5</td>\n",
       "      <td>48346487</td>\n",
       "      <td>0</td>\n",
       "      <td>19484511</td>\n",
       "      <td>1253802</td>\n",
       "      <td>Kloof Street Swartland Rougen2015</td>\n",
       "      <td>/mullineux-kloof-street-swartland-rouge/w/1253...</td>\n",
       "      <td>0</td>\n",
       "    </tr>\n",
       "    <tr>\n",
       "      <th>2</th>\n",
       "      <td>Beautiful golden nectar</td>\n",
       "      <td>3.5</td>\n",
       "      <td>156865950</td>\n",
       "      <td>1</td>\n",
       "      <td>19484511</td>\n",
       "      <td>1123441</td>\n",
       "      <td>Late Harvestn2018</td>\n",
       "      <td>/stables-late-harvest/w/1123441?year=2018</td>\n",
       "      <td>0</td>\n",
       "    </tr>\n",
       "    <tr>\n",
       "      <th>3</th>\n",
       "      <td></td>\n",
       "      <td>3.5</td>\n",
       "      <td>150284640</td>\n",
       "      <td>0</td>\n",
       "      <td>19484511</td>\n",
       "      <td>1157656</td>\n",
       "      <td>Proseccon2017</td>\n",
       "      <td>/ruffino-prosecco/w/1157656?year=2017</td>\n",
       "      <td>0</td>\n",
       "    </tr>\n",
       "    <tr>\n",
       "      <th>4</th>\n",
       "      <td>Bright clean and refreshing</td>\n",
       "      <td>3.5</td>\n",
       "      <td>1471106</td>\n",
       "      <td>0</td>\n",
       "      <td>19484511</td>\n",
       "      <td>1134756</td>\n",
       "      <td>Prosecco TrevisonN.V.</td>\n",
       "      <td>/la-gioiosa-prosecco-treviso/w/1134756?year=N.V.</td>\n",
       "      <td>0</td>\n",
       "    </tr>\n",
       "  </tbody>\n",
       "</table>\n",
       "</div>"
      ],
      "text/plain": [
       "                      user_note  rating_per_user  vintage_id  user_like_count  \\\n",
       "0                                            4.0   142514980                0   \n",
       "1                                            3.5    48346487                0   \n",
       "2       Beautiful golden nectar              3.5   156865950                1   \n",
       "3                                            3.5   150284640                0   \n",
       "4  Bright clean and refreshing               3.5     1471106                0   \n",
       "\n",
       "     userID  wine_id                          wine_name  \\\n",
       "0  19484511  2532733           Secateurs Red Blendn2016   \n",
       "1  19484511  1253802  Kloof Street Swartland Rougen2015   \n",
       "2  19484511  1123441                  Late Harvestn2018   \n",
       "3  19484511  1157656                      Proseccon2017   \n",
       "4  19484511  1134756              Prosecco TrevisonN.V.   \n",
       "\n",
       "                                                 url  like  \n",
       "0  /badenhorst-family-wines-secateurs-red-blend-s...     1  \n",
       "1  /mullineux-kloof-street-swartland-rouge/w/1253...     0  \n",
       "2          /stables-late-harvest/w/1123441?year=2018     0  \n",
       "3              /ruffino-prosecco/w/1157656?year=2017     0  \n",
       "4   /la-gioiosa-prosecco-treviso/w/1134756?year=N.V.     0  "
      ]
     },
     "execution_count": 7,
     "metadata": {},
     "output_type": "execute_result"
    }
   ],
   "source": [
    "train.head()"
   ]
  },
  {
   "cell_type": "code",
   "execution_count": 8,
   "metadata": {
    "Collapsed": "false"
   },
   "outputs": [
    {
     "data": {
      "text/html": [
       "<div>\n",
       "<style scoped>\n",
       "    .dataframe tbody tr th:only-of-type {\n",
       "        vertical-align: middle;\n",
       "    }\n",
       "\n",
       "    .dataframe tbody tr th {\n",
       "        vertical-align: top;\n",
       "    }\n",
       "\n",
       "    .dataframe thead th {\n",
       "        text-align: right;\n",
       "    }\n",
       "</style>\n",
       "<table border=\"1\" class=\"dataframe\">\n",
       "  <thead>\n",
       "    <tr style=\"text-align: right;\">\n",
       "      <th></th>\n",
       "      <th>user_note</th>\n",
       "      <th>rating_per_user</th>\n",
       "      <th>vintage_id</th>\n",
       "      <th>user_like_count</th>\n",
       "      <th>userID</th>\n",
       "      <th>wine_id</th>\n",
       "      <th>wine_name</th>\n",
       "      <th>url</th>\n",
       "      <th>like</th>\n",
       "    </tr>\n",
       "  </thead>\n",
       "  <tbody>\n",
       "    <tr>\n",
       "      <th>0</th>\n",
       "      <td>Soooo good 💕</td>\n",
       "      <td>4.0</td>\n",
       "      <td>164942680</td>\n",
       "      <td>0</td>\n",
       "      <td>19484511</td>\n",
       "      <td>1141133</td>\n",
       "      <td>Prestige Rosé Brut ChampagnenN.V.</td>\n",
       "      <td>/taittinger-prestige-rose-brut-champagne/w/114...</td>\n",
       "      <td>1</td>\n",
       "    </tr>\n",
       "    <tr>\n",
       "      <th>1</th>\n",
       "      <td>Belíssimo champanhe rose, bem seco mais com mu...</td>\n",
       "      <td>4.0</td>\n",
       "      <td>164942680</td>\n",
       "      <td>2</td>\n",
       "      <td>352674</td>\n",
       "      <td>1141133</td>\n",
       "      <td>Prestige Rosé Brut ChampagnenN.V.</td>\n",
       "      <td>/taittinger-prestige-rose-brut-champagne/w/114...</td>\n",
       "      <td>1</td>\n",
       "    </tr>\n",
       "    <tr>\n",
       "      <th>2</th>\n",
       "      <td>Caramel, cherry, woody and oxidized.</td>\n",
       "      <td>1.5</td>\n",
       "      <td>164942680</td>\n",
       "      <td>8</td>\n",
       "      <td>2148498</td>\n",
       "      <td>1141133</td>\n",
       "      <td>Prestige Rosé Brut ChampagnenN.V.</td>\n",
       "      <td>/taittinger-prestige-rose-brut-champagne/w/114...</td>\n",
       "      <td>0</td>\n",
       "    </tr>\n",
       "    <tr>\n",
       "      <th>3</th>\n",
       "      <td>Fine example of a great basic NV. Lovely stuff!</td>\n",
       "      <td>4.5</td>\n",
       "      <td>164942680</td>\n",
       "      <td>0</td>\n",
       "      <td>3450270</td>\n",
       "      <td>1141133</td>\n",
       "      <td>Prestige Rosé Brut ChampagnenN.V.</td>\n",
       "      <td>/taittinger-prestige-rose-brut-champagne/w/114...</td>\n",
       "      <td>1</td>\n",
       "    </tr>\n",
       "    <tr>\n",
       "      <th>4</th>\n",
       "      <td></td>\n",
       "      <td>4.0</td>\n",
       "      <td>164942680</td>\n",
       "      <td>0</td>\n",
       "      <td>17786617</td>\n",
       "      <td>1141133</td>\n",
       "      <td>Prestige Rosé Brut ChampagnenN.V.</td>\n",
       "      <td>/taittinger-prestige-rose-brut-champagne/w/114...</td>\n",
       "      <td>1</td>\n",
       "    </tr>\n",
       "  </tbody>\n",
       "</table>\n",
       "</div>"
      ],
      "text/plain": [
       "                                           user_note  rating_per_user  \\\n",
       "0                                       Soooo good 💕              4.0   \n",
       "1  Belíssimo champanhe rose, bem seco mais com mu...              4.0   \n",
       "2               Caramel, cherry, woody and oxidized.              1.5   \n",
       "3    Fine example of a great basic NV. Lovely stuff!              4.5   \n",
       "4                                                                 4.0   \n",
       "\n",
       "   vintage_id  user_like_count    userID  wine_id  \\\n",
       "0   164942680                0  19484511  1141133   \n",
       "1   164942680                2    352674  1141133   \n",
       "2   164942680                8   2148498  1141133   \n",
       "3   164942680                0   3450270  1141133   \n",
       "4   164942680                0  17786617  1141133   \n",
       "\n",
       "                           wine_name  \\\n",
       "0  Prestige Rosé Brut ChampagnenN.V.   \n",
       "1  Prestige Rosé Brut ChampagnenN.V.   \n",
       "2  Prestige Rosé Brut ChampagnenN.V.   \n",
       "3  Prestige Rosé Brut ChampagnenN.V.   \n",
       "4  Prestige Rosé Brut ChampagnenN.V.   \n",
       "\n",
       "                                                 url  like  \n",
       "0  /taittinger-prestige-rose-brut-champagne/w/114...     1  \n",
       "1  /taittinger-prestige-rose-brut-champagne/w/114...     1  \n",
       "2  /taittinger-prestige-rose-brut-champagne/w/114...     0  \n",
       "3  /taittinger-prestige-rose-brut-champagne/w/114...     1  \n",
       "4  /taittinger-prestige-rose-brut-champagne/w/114...     1  "
      ]
     },
     "execution_count": 8,
     "metadata": {},
     "output_type": "execute_result"
    }
   ],
   "source": [
    "test.head()"
   ]
  },
  {
   "cell_type": "code",
   "execution_count": 9,
   "metadata": {
    "Collapsed": "false"
   },
   "outputs": [],
   "source": [
    "item = pd.read_csv('./data/Wine_Meta_final_201208.csv')"
   ]
  },
  {
   "cell_type": "code",
   "execution_count": 10,
   "metadata": {
    "Collapsed": "false"
   },
   "outputs": [
    {
     "data": {
      "text/html": [
       "<div>\n",
       "<style scoped>\n",
       "    .dataframe tbody tr th:only-of-type {\n",
       "        vertical-align: middle;\n",
       "    }\n",
       "\n",
       "    .dataframe tbody tr th {\n",
       "        vertical-align: top;\n",
       "    }\n",
       "\n",
       "    .dataframe thead th {\n",
       "        text-align: right;\n",
       "    }\n",
       "</style>\n",
       "<table border=\"1\" class=\"dataframe\">\n",
       "  <thead>\n",
       "    <tr style=\"text-align: right;\">\n",
       "      <th></th>\n",
       "      <th>wine_id</th>\n",
       "      <th>name</th>\n",
       "      <th>rating_count</th>\n",
       "      <th>rating_average</th>\n",
       "      <th>label_count</th>\n",
       "      <th>review_count</th>\n",
       "      <th>type_id</th>\n",
       "      <th>body</th>\n",
       "      <th>acidity_x</th>\n",
       "      <th>alcohol</th>\n",
       "      <th>...</th>\n",
       "      <th>wood smoke</th>\n",
       "      <th>wood varnish</th>\n",
       "      <th>yeast</th>\n",
       "      <th>yellow apple</th>\n",
       "      <th>yellow beet</th>\n",
       "      <th>yellow peach</th>\n",
       "      <th>yellow plum</th>\n",
       "      <th>yellow raisin</th>\n",
       "      <th>yerba mate</th>\n",
       "      <th>yogurt</th>\n",
       "    </tr>\n",
       "  </thead>\n",
       "  <tbody>\n",
       "    <tr>\n",
       "      <th>0</th>\n",
       "      <td>1938520</td>\n",
       "      <td>1882 Cabernet Sauvignon</td>\n",
       "      <td>1697</td>\n",
       "      <td>4.1</td>\n",
       "      <td>14879</td>\n",
       "      <td>16</td>\n",
       "      <td>1</td>\n",
       "      <td>5.0</td>\n",
       "      <td>2.0</td>\n",
       "      <td>14.5</td>\n",
       "      <td>...</td>\n",
       "      <td>0.0</td>\n",
       "      <td>0.0</td>\n",
       "      <td>0.0</td>\n",
       "      <td>0.0</td>\n",
       "      <td>0.0</td>\n",
       "      <td>0.0</td>\n",
       "      <td>0.0</td>\n",
       "      <td>0.0</td>\n",
       "      <td>0.0</td>\n",
       "      <td>0.0</td>\n",
       "    </tr>\n",
       "    <tr>\n",
       "      <th>1</th>\n",
       "      <td>14604</td>\n",
       "      <td>Les Bessards Hermitage</td>\n",
       "      <td>1078</td>\n",
       "      <td>4.3</td>\n",
       "      <td>5370</td>\n",
       "      <td>3</td>\n",
       "      <td>1</td>\n",
       "      <td>5.0</td>\n",
       "      <td>3.0</td>\n",
       "      <td>14.0</td>\n",
       "      <td>...</td>\n",
       "      <td>0.0</td>\n",
       "      <td>0.0</td>\n",
       "      <td>0.0</td>\n",
       "      <td>0.0</td>\n",
       "      <td>0.0</td>\n",
       "      <td>0.0</td>\n",
       "      <td>0.0</td>\n",
       "      <td>0.0</td>\n",
       "      <td>0.0</td>\n",
       "      <td>0.0</td>\n",
       "    </tr>\n",
       "    <tr>\n",
       "      <th>2</th>\n",
       "      <td>1930757</td>\n",
       "      <td>Patriarch Estate Grown</td>\n",
       "      <td>1072</td>\n",
       "      <td>4.6</td>\n",
       "      <td>6042</td>\n",
       "      <td>25</td>\n",
       "      <td>1</td>\n",
       "      <td>4.0</td>\n",
       "      <td>3.0</td>\n",
       "      <td>14.2</td>\n",
       "      <td>...</td>\n",
       "      <td>0.0</td>\n",
       "      <td>0.0</td>\n",
       "      <td>0.0</td>\n",
       "      <td>0.0</td>\n",
       "      <td>0.0</td>\n",
       "      <td>0.0</td>\n",
       "      <td>0.0</td>\n",
       "      <td>0.0</td>\n",
       "      <td>0.0</td>\n",
       "      <td>0.0</td>\n",
       "    </tr>\n",
       "    <tr>\n",
       "      <th>3</th>\n",
       "      <td>1564280</td>\n",
       "      <td>Merlot</td>\n",
       "      <td>3577</td>\n",
       "      <td>4.3</td>\n",
       "      <td>18748</td>\n",
       "      <td>52</td>\n",
       "      <td>1</td>\n",
       "      <td>4.0</td>\n",
       "      <td>3.0</td>\n",
       "      <td>14.4</td>\n",
       "      <td>...</td>\n",
       "      <td>0.0</td>\n",
       "      <td>0.0</td>\n",
       "      <td>0.0</td>\n",
       "      <td>0.0</td>\n",
       "      <td>0.0</td>\n",
       "      <td>0.0</td>\n",
       "      <td>0.0</td>\n",
       "      <td>0.0</td>\n",
       "      <td>0.0</td>\n",
       "      <td>0.0</td>\n",
       "    </tr>\n",
       "    <tr>\n",
       "      <th>4</th>\n",
       "      <td>2576427</td>\n",
       "      <td>Cabernet Sauvignon F Block</td>\n",
       "      <td>115</td>\n",
       "      <td>4.4</td>\n",
       "      <td>806</td>\n",
       "      <td>1</td>\n",
       "      <td>1</td>\n",
       "      <td>5.0</td>\n",
       "      <td>2.0</td>\n",
       "      <td>0.0</td>\n",
       "      <td>...</td>\n",
       "      <td>0.0</td>\n",
       "      <td>0.0</td>\n",
       "      <td>0.0</td>\n",
       "      <td>0.0</td>\n",
       "      <td>0.0</td>\n",
       "      <td>0.0</td>\n",
       "      <td>0.0</td>\n",
       "      <td>0.0</td>\n",
       "      <td>0.0</td>\n",
       "      <td>0.0</td>\n",
       "    </tr>\n",
       "  </tbody>\n",
       "</table>\n",
       "<p>5 rows × 559 columns</p>\n",
       "</div>"
      ],
      "text/plain": [
       "   wine_id                        name  rating_count  rating_average  \\\n",
       "0  1938520     1882 Cabernet Sauvignon          1697             4.1   \n",
       "1    14604      Les Bessards Hermitage          1078             4.3   \n",
       "2  1930757      Patriarch Estate Grown          1072             4.6   \n",
       "3  1564280                      Merlot          3577             4.3   \n",
       "4  2576427  Cabernet Sauvignon F Block           115             4.4   \n",
       "\n",
       "   label_count  review_count  type_id  body  acidity_x  alcohol  ...  \\\n",
       "0        14879            16        1   5.0        2.0     14.5  ...   \n",
       "1         5370             3        1   5.0        3.0     14.0  ...   \n",
       "2         6042            25        1   4.0        3.0     14.2  ...   \n",
       "3        18748            52        1   4.0        3.0     14.4  ...   \n",
       "4          806             1        1   5.0        2.0      0.0  ...   \n",
       "\n",
       "  wood smoke  wood varnish yeast  yellow apple  yellow beet  yellow peach  \\\n",
       "0        0.0           0.0   0.0           0.0          0.0           0.0   \n",
       "1        0.0           0.0   0.0           0.0          0.0           0.0   \n",
       "2        0.0           0.0   0.0           0.0          0.0           0.0   \n",
       "3        0.0           0.0   0.0           0.0          0.0           0.0   \n",
       "4        0.0           0.0   0.0           0.0          0.0           0.0   \n",
       "\n",
       "   yellow plum  yellow raisin  yerba mate  yogurt  \n",
       "0          0.0            0.0         0.0     0.0  \n",
       "1          0.0            0.0         0.0     0.0  \n",
       "2          0.0            0.0         0.0     0.0  \n",
       "3          0.0            0.0         0.0     0.0  \n",
       "4          0.0            0.0         0.0     0.0  \n",
       "\n",
       "[5 rows x 559 columns]"
      ]
     },
     "execution_count": 10,
     "metadata": {},
     "output_type": "execute_result"
    }
   ],
   "source": [
    "item.head()"
   ]
  },
  {
   "cell_type": "code",
   "execution_count": 20,
   "metadata": {
    "Collapsed": "false"
   },
   "outputs": [
    {
     "data": {
      "text/plain": [
       "dict_keys(['train', 'test'])"
      ]
     },
     "execution_count": 20,
     "metadata": {},
     "output_type": "execute_result"
    }
   ],
   "source": [
    "dataset = joblib.load('dataset_item_pca.pkl')\n",
    "dataset.keys()"
   ]
  },
  {
   "cell_type": "code",
   "execution_count": 21,
   "metadata": {
    "Collapsed": "false"
   },
   "outputs": [
    {
     "data": {
      "text/plain": [
       "22"
      ]
     },
     "execution_count": 21,
     "metadata": {},
     "output_type": "execute_result"
    }
   ],
   "source": [
    "prep_train = dataset['train']\n",
    "prep_test = dataset['test']\n",
    "\n",
    "del dataset\n",
    "gc.collect()"
   ]
  },
  {
   "cell_type": "code",
   "execution_count": 26,
   "metadata": {
    "Collapsed": "false"
   },
   "outputs": [
    {
     "data": {
      "text/plain": [
       "((937756, 9), (6343, 9), (937756, 58), (6343, 58))"
      ]
     },
     "execution_count": 26,
     "metadata": {},
     "output_type": "execute_result"
    }
   ],
   "source": [
    "train.shape, test.shape, prep_train.shape, prep_test.shape"
   ]
  },
  {
   "cell_type": "markdown",
   "metadata": {
    "Collapsed": "false"
   },
   "source": [
    "# 1. Preprocessing"
   ]
  },
  {
   "cell_type": "code",
   "execution_count": 27,
   "metadata": {
    "Collapsed": "false"
   },
   "outputs": [],
   "source": [
    "# 'like' label 붙이기"
   ]
  },
  {
   "cell_type": "code",
   "execution_count": 32,
   "metadata": {
    "Collapsed": "false"
   },
   "outputs": [],
   "source": [
    "prep_train['label'] = train['like']\n",
    "prep_test['label'] = test['like'].values"
   ]
  },
  {
   "cell_type": "code",
   "execution_count": 42,
   "metadata": {
    "Collapsed": "false"
   },
   "outputs": [],
   "source": [
    "feature_names = list(prep_train.columns[3:])"
   ]
  },
  {
   "cell_type": "code",
   "execution_count": 44,
   "metadata": {
    "Collapsed": "false"
   },
   "outputs": [
    {
     "name": "stdout",
     "output_type": "stream",
     "text": [
      "enc_userID 0\n",
      "enc_wine_id 0\n",
      "recent 0\n",
      "like 0\n",
      "dislike 0\n",
      "pca_1 47\n",
      "pca_2 47\n",
      "pca_3 47\n",
      "pca_4 47\n",
      "pca_5 47\n",
      "pca_6 47\n",
      "pca_7 47\n",
      "pca_8 47\n",
      "pca_9 47\n",
      "pca_10 47\n",
      "pca_11 47\n",
      "pca_12 47\n",
      "pca_13 47\n",
      "pca_14 47\n",
      "pca_15 47\n",
      "pca_16 47\n",
      "pca_17 47\n",
      "pca_18 47\n",
      "pca_19 47\n",
      "pca_20 47\n",
      "pca_21 47\n",
      "pca_22 47\n",
      "pca_23 47\n",
      "pca_24 47\n",
      "pca_25 47\n",
      "pca_26 47\n",
      "pca_27 47\n",
      "pca_28 47\n",
      "pca_29 47\n",
      "pca_30 47\n",
      "pca_31 47\n",
      "pca_32 47\n",
      "pca_33 47\n",
      "pca_34 47\n",
      "pca_35 47\n",
      "pca_36 47\n",
      "pca_37 47\n",
      "pca_38 47\n",
      "pca_39 47\n",
      "pca_40 47\n",
      "pca_41 47\n",
      "pca_42 47\n",
      "pca_43 47\n",
      "pca_44 47\n",
      "pca_45 47\n",
      "pca_46 47\n",
      "pca_47 47\n",
      "pca_48 47\n",
      "pca_49 47\n",
      "pca_50 47\n",
      "label 0\n"
     ]
    }
   ],
   "source": [
    "for feature_name in feature_names:\n",
    "    print(feature_name, prep_train[feature_name].isna().sum())"
   ]
  },
  {
   "cell_type": "code",
   "execution_count": 53,
   "metadata": {
    "Collapsed": "false"
   },
   "outputs": [],
   "source": [
    "isna_value = prep_train.loc[prep_train['wine_id'] == 1183966].iloc[:, 8: -1].values[0]"
   ]
  },
  {
   "cell_type": "code",
   "execution_count": 72,
   "metadata": {
    "Collapsed": "false"
   },
   "outputs": [],
   "source": [
    "pca_columns = [ 'pca_{}'.format(i) for i in range(1, 51)]"
   ]
  },
  {
   "cell_type": "code",
   "execution_count": 79,
   "metadata": {
    "Collapsed": "false"
   },
   "outputs": [],
   "source": [
    "isna_index = prep_train.loc[prep_train['wine_id'] == 1886805].index\n",
    "\n",
    "for idx in isna_index:\n",
    "    prep_train._set_value(idx, pca_columns, isna_value)"
   ]
  },
  {
   "cell_type": "code",
   "execution_count": 80,
   "metadata": {
    "Collapsed": "false"
   },
   "outputs": [
    {
     "data": {
      "text/html": [
       "<div>\n",
       "<style scoped>\n",
       "    .dataframe tbody tr th:only-of-type {\n",
       "        vertical-align: middle;\n",
       "    }\n",
       "\n",
       "    .dataframe tbody tr th {\n",
       "        vertical-align: top;\n",
       "    }\n",
       "\n",
       "    .dataframe thead th {\n",
       "        text-align: right;\n",
       "    }\n",
       "</style>\n",
       "<table border=\"1\" class=\"dataframe\">\n",
       "  <thead>\n",
       "    <tr style=\"text-align: right;\">\n",
       "      <th></th>\n",
       "      <th>userID</th>\n",
       "      <th>wine_id</th>\n",
       "      <th>rating</th>\n",
       "      <th>enc_userID</th>\n",
       "      <th>enc_wine_id</th>\n",
       "      <th>recent</th>\n",
       "      <th>like</th>\n",
       "      <th>dislike</th>\n",
       "      <th>pca_1</th>\n",
       "      <th>pca_2</th>\n",
       "      <th>...</th>\n",
       "      <th>pca_42</th>\n",
       "      <th>pca_43</th>\n",
       "      <th>pca_44</th>\n",
       "      <th>pca_45</th>\n",
       "      <th>pca_46</th>\n",
       "      <th>pca_47</th>\n",
       "      <th>pca_48</th>\n",
       "      <th>pca_49</th>\n",
       "      <th>pca_50</th>\n",
       "      <th>label</th>\n",
       "    </tr>\n",
       "  </thead>\n",
       "  <tbody>\n",
       "    <tr>\n",
       "      <th>5168</th>\n",
       "      <td>15409535</td>\n",
       "      <td>1886805</td>\n",
       "      <td>3.5</td>\n",
       "      <td>18</td>\n",
       "      <td>3924</td>\n",
       "      <td>[3925, 1553, 3926, 3927, 3928, 3929, 3100, 393...</td>\n",
       "      <td>[3254, 2182, 3951, 3958, 3970, 3897, 3995, 400...</td>\n",
       "      <td>[3935, 3948, 3949, 991, 3954, 3961, 3964, 3967...</td>\n",
       "      <td>-111853.789784</td>\n",
       "      <td>32003.295484</td>\n",
       "      <td>...</td>\n",
       "      <td>12.939464</td>\n",
       "      <td>-0.536548</td>\n",
       "      <td>15.232192</td>\n",
       "      <td>3.187089</td>\n",
       "      <td>15.694273</td>\n",
       "      <td>13.106459</td>\n",
       "      <td>-5.07297</td>\n",
       "      <td>4.71226</td>\n",
       "      <td>-3.853703</td>\n",
       "      <td>0</td>\n",
       "    </tr>\n",
       "    <tr>\n",
       "      <th>120521</th>\n",
       "      <td>643840</td>\n",
       "      <td>1886805</td>\n",
       "      <td>4.0</td>\n",
       "      <td>466</td>\n",
       "      <td>3924</td>\n",
       "      <td>[18041, 19996, 2520, 27649, 33812, 34386, 1512...</td>\n",
       "      <td>[18041, 19996, 2520, 15125, 4709, 19271, 28926...</td>\n",
       "      <td>[34386, 2997, 34388, 3922, 14182, 3091, 10438,...</td>\n",
       "      <td>-111853.789784</td>\n",
       "      <td>32003.295484</td>\n",
       "      <td>...</td>\n",
       "      <td>12.939464</td>\n",
       "      <td>-0.536548</td>\n",
       "      <td>15.232192</td>\n",
       "      <td>3.187089</td>\n",
       "      <td>15.694273</td>\n",
       "      <td>13.106459</td>\n",
       "      <td>-5.07297</td>\n",
       "      <td>4.71226</td>\n",
       "      <td>-3.853703</td>\n",
       "      <td>0</td>\n",
       "    </tr>\n",
       "    <tr>\n",
       "      <th>140564</th>\n",
       "      <td>13358262</td>\n",
       "      <td>1886805</td>\n",
       "      <td>3.0</td>\n",
       "      <td>545</td>\n",
       "      <td>3924</td>\n",
       "      <td>[17669, 2548, 8819, 3537, 3537, 6872, 20193, 3...</td>\n",
       "      <td>[2548, 3537, 3537, 20193, 22192, 36916, 19289,...</td>\n",
       "      <td>[3924, 36911, 7917, 36912, 36913, 4917, 44, 18...</td>\n",
       "      <td>-111853.789784</td>\n",
       "      <td>32003.295484</td>\n",
       "      <td>...</td>\n",
       "      <td>12.939464</td>\n",
       "      <td>-0.536548</td>\n",
       "      <td>15.232192</td>\n",
       "      <td>3.187089</td>\n",
       "      <td>15.694273</td>\n",
       "      <td>13.106459</td>\n",
       "      <td>-5.07297</td>\n",
       "      <td>4.71226</td>\n",
       "      <td>-3.853703</td>\n",
       "      <td>0</td>\n",
       "    </tr>\n",
       "    <tr>\n",
       "      <th>144555</th>\n",
       "      <td>12936090</td>\n",
       "      <td>1886805</td>\n",
       "      <td>2.5</td>\n",
       "      <td>560</td>\n",
       "      <td>3924</td>\n",
       "      <td>[6879, 3092, 6552, 12940, 6880, 3846, 3695, 33...</td>\n",
       "      <td>[6880, 20201, 2514, 7928, 37415, 22940, 19443,...</td>\n",
       "      <td>[3924, 6879, 6552, 12940, 26679, 5886, 19697, ...</td>\n",
       "      <td>-111853.789784</td>\n",
       "      <td>32003.295484</td>\n",
       "      <td>...</td>\n",
       "      <td>12.939464</td>\n",
       "      <td>-0.536548</td>\n",
       "      <td>15.232192</td>\n",
       "      <td>3.187089</td>\n",
       "      <td>15.694273</td>\n",
       "      <td>13.106459</td>\n",
       "      <td>-5.07297</td>\n",
       "      <td>4.71226</td>\n",
       "      <td>-3.853703</td>\n",
       "      <td>0</td>\n",
       "    </tr>\n",
       "    <tr>\n",
       "      <th>173278</th>\n",
       "      <td>2301477</td>\n",
       "      <td>1886805</td>\n",
       "      <td>3.5</td>\n",
       "      <td>674</td>\n",
       "      <td>3924</td>\n",
       "      <td>[4089, 4252, 33914, 2805, 3742, 3660, 13173, 3...</td>\n",
       "      <td>[4252, 3742, 3660, 13173, 1605, 17558, 14178, ...</td>\n",
       "      <td>[5412, 2320, 3937, 33387, 7219, 9884, 3363, 10...</td>\n",
       "      <td>-111853.789784</td>\n",
       "      <td>32003.295484</td>\n",
       "      <td>...</td>\n",
       "      <td>12.939464</td>\n",
       "      <td>-0.536548</td>\n",
       "      <td>15.232192</td>\n",
       "      <td>3.187089</td>\n",
       "      <td>15.694273</td>\n",
       "      <td>13.106459</td>\n",
       "      <td>-5.07297</td>\n",
       "      <td>4.71226</td>\n",
       "      <td>-3.853703</td>\n",
       "      <td>0</td>\n",
       "    </tr>\n",
       "  </tbody>\n",
       "</table>\n",
       "<p>5 rows × 59 columns</p>\n",
       "</div>"
      ],
      "text/plain": [
       "          userID  wine_id  rating  enc_userID  enc_wine_id  \\\n",
       "5168    15409535  1886805     3.5          18         3924   \n",
       "120521    643840  1886805     4.0         466         3924   \n",
       "140564  13358262  1886805     3.0         545         3924   \n",
       "144555  12936090  1886805     2.5         560         3924   \n",
       "173278   2301477  1886805     3.5         674         3924   \n",
       "\n",
       "                                                   recent  \\\n",
       "5168    [3925, 1553, 3926, 3927, 3928, 3929, 3100, 393...   \n",
       "120521  [18041, 19996, 2520, 27649, 33812, 34386, 1512...   \n",
       "140564  [17669, 2548, 8819, 3537, 3537, 6872, 20193, 3...   \n",
       "144555  [6879, 3092, 6552, 12940, 6880, 3846, 3695, 33...   \n",
       "173278  [4089, 4252, 33914, 2805, 3742, 3660, 13173, 3...   \n",
       "\n",
       "                                                     like  \\\n",
       "5168    [3254, 2182, 3951, 3958, 3970, 3897, 3995, 400...   \n",
       "120521  [18041, 19996, 2520, 15125, 4709, 19271, 28926...   \n",
       "140564  [2548, 3537, 3537, 20193, 22192, 36916, 19289,...   \n",
       "144555  [6880, 20201, 2514, 7928, 37415, 22940, 19443,...   \n",
       "173278  [4252, 3742, 3660, 13173, 1605, 17558, 14178, ...   \n",
       "\n",
       "                                                  dislike          pca_1  \\\n",
       "5168    [3935, 3948, 3949, 991, 3954, 3961, 3964, 3967... -111853.789784   \n",
       "120521  [34386, 2997, 34388, 3922, 14182, 3091, 10438,... -111853.789784   \n",
       "140564  [3924, 36911, 7917, 36912, 36913, 4917, 44, 18... -111853.789784   \n",
       "144555  [3924, 6879, 6552, 12940, 26679, 5886, 19697, ... -111853.789784   \n",
       "173278  [5412, 2320, 3937, 33387, 7219, 9884, 3363, 10... -111853.789784   \n",
       "\n",
       "               pca_2  ...     pca_42    pca_43     pca_44    pca_45  \\\n",
       "5168    32003.295484  ...  12.939464 -0.536548  15.232192  3.187089   \n",
       "120521  32003.295484  ...  12.939464 -0.536548  15.232192  3.187089   \n",
       "140564  32003.295484  ...  12.939464 -0.536548  15.232192  3.187089   \n",
       "144555  32003.295484  ...  12.939464 -0.536548  15.232192  3.187089   \n",
       "173278  32003.295484  ...  12.939464 -0.536548  15.232192  3.187089   \n",
       "\n",
       "           pca_46     pca_47   pca_48   pca_49    pca_50  label  \n",
       "5168    15.694273  13.106459 -5.07297  4.71226 -3.853703      0  \n",
       "120521  15.694273  13.106459 -5.07297  4.71226 -3.853703      0  \n",
       "140564  15.694273  13.106459 -5.07297  4.71226 -3.853703      0  \n",
       "144555  15.694273  13.106459 -5.07297  4.71226 -3.853703      0  \n",
       "173278  15.694273  13.106459 -5.07297  4.71226 -3.853703      0  \n",
       "\n",
       "[5 rows x 59 columns]"
      ]
     },
     "execution_count": 80,
     "metadata": {},
     "output_type": "execute_result"
    }
   ],
   "source": [
    "prep_train.loc[prep_train['wine_id'] == 1886805].head()"
   ]
  },
  {
   "cell_type": "code",
   "execution_count": 86,
   "metadata": {
    "Collapsed": "false"
   },
   "outputs": [
    {
     "name": "stdout",
     "output_type": "stream",
     "text": [
      "enc_userID 0\n",
      "enc_wine_id 0\n",
      "recent 0\n",
      "like 0\n",
      "dislike 0\n",
      "pca_1 0\n",
      "pca_2 0\n",
      "pca_3 0\n",
      "pca_4 0\n",
      "pca_5 0\n",
      "pca_6 0\n",
      "pca_7 0\n",
      "pca_8 0\n",
      "pca_9 0\n",
      "pca_10 0\n",
      "pca_11 0\n",
      "pca_12 0\n",
      "pca_13 0\n",
      "pca_14 0\n",
      "pca_15 0\n",
      "pca_16 0\n",
      "pca_17 0\n",
      "pca_18 0\n",
      "pca_19 0\n",
      "pca_20 0\n",
      "pca_21 0\n",
      "pca_22 0\n",
      "pca_23 0\n",
      "pca_24 0\n",
      "pca_25 0\n",
      "pca_26 0\n",
      "pca_27 0\n",
      "pca_28 0\n",
      "pca_29 0\n",
      "pca_30 0\n",
      "pca_31 0\n",
      "pca_32 0\n",
      "pca_33 0\n",
      "pca_34 0\n",
      "pca_35 0\n",
      "pca_36 0\n",
      "pca_37 0\n",
      "pca_38 0\n",
      "pca_39 0\n",
      "pca_40 0\n",
      "pca_41 0\n",
      "pca_42 0\n",
      "pca_43 0\n",
      "pca_44 0\n",
      "pca_45 0\n",
      "pca_46 0\n",
      "pca_47 0\n",
      "pca_48 0\n",
      "pca_49 0\n",
      "pca_50 0\n",
      "label 0\n"
     ]
    }
   ],
   "source": [
    "for feature_name in feature_names:\n",
    "    print(feature_name, prep_test[feature_name].isna().sum())"
   ]
  },
  {
   "cell_type": "code",
   "execution_count": 87,
   "metadata": {
    "Collapsed": "false"
   },
   "outputs": [
    {
     "data": {
      "text/plain": [
       "Index(['userID', 'wine_id', 'rating', 'enc_userID', 'enc_wine_id', 'recent',\n",
       "       'like', 'dislike', 'pca_1', 'pca_2', 'pca_3', 'pca_4', 'pca_5', 'pca_6',\n",
       "       'pca_7', 'pca_8', 'pca_9', 'pca_10', 'pca_11', 'pca_12', 'pca_13',\n",
       "       'pca_14', 'pca_15', 'pca_16', 'pca_17', 'pca_18', 'pca_19', 'pca_20',\n",
       "       'pca_21', 'pca_22', 'pca_23', 'pca_24', 'pca_25', 'pca_26', 'pca_27',\n",
       "       'pca_28', 'pca_29', 'pca_30', 'pca_31', 'pca_32', 'pca_33', 'pca_34',\n",
       "       'pca_35', 'pca_36', 'pca_37', 'pca_38', 'pca_39', 'pca_40', 'pca_41',\n",
       "       'pca_42', 'pca_43', 'pca_44', 'pca_45', 'pca_46', 'pca_47', 'pca_48',\n",
       "       'pca_49', 'pca_50', 'label'],\n",
       "      dtype='object')"
      ]
     },
     "execution_count": 87,
     "metadata": {},
     "output_type": "execute_result"
    }
   ],
   "source": [
    "prep_train.columns"
   ]
  },
  {
   "cell_type": "code",
   "execution_count": 153,
   "metadata": {
    "Collapsed": "false"
   },
   "outputs": [],
   "source": [
    "str_features = [\"enc_userID\", \"enc_wine_id\", \"recent\", 'like', 'dislike', 'label']\n",
    "int_features = pca_columns"
   ]
  },
  {
   "cell_type": "code",
   "execution_count": 186,
   "metadata": {
    "Collapsed": "false"
   },
   "outputs": [],
   "source": [
    "train_str_dict = {\n",
    "    str_feature: [str(val).encode() for val in prep_train[str_feature].values]\n",
    "    for str_feature in str_features\n",
    "}\n",
    "\n",
    "# train_int_dict = {\n",
    "#     int_feature: prep_train[int_feature].values\n",
    "#     for int_feature in int_features\n",
    "# }"
   ]
  },
  {
   "cell_type": "code",
   "execution_count": 187,
   "metadata": {
    "Collapsed": "false"
   },
   "outputs": [
    {
     "data": {
      "text/plain": [
       "dict_keys(['enc_userID', 'enc_wine_id', 'recent', 'like', 'dislike', 'label'])"
      ]
     },
     "execution_count": 187,
     "metadata": {},
     "output_type": "execute_result"
    }
   ],
   "source": [
    "# train_str_dict.update(train_int_dict)\n",
    "train_str_dict.keys()"
   ]
  },
  {
   "cell_type": "code",
   "execution_count": 188,
   "metadata": {
    "Collapsed": "false"
   },
   "outputs": [
    {
     "data": {
      "text/plain": [
       "dict_keys(['enc_userID', 'enc_wine_id', 'recent', 'like', 'dislike', 'label'])"
      ]
     },
     "execution_count": 188,
     "metadata": {},
     "output_type": "execute_result"
    }
   ],
   "source": [
    "test_str_dict = {\n",
    "    str_feature: [str(val).encode() for val in prep_test[str_feature].values]\n",
    "    for str_feature in str_features\n",
    "}\n",
    "\n",
    "test_int_dict = {\n",
    "    int_feature: prep_test[int_feature].values\n",
    "    for int_feature in int_features\n",
    "}\n",
    "\n",
    "# test_str_dict.update(test_int_dict)\n",
    "test_str_dict.keys()"
   ]
  },
  {
   "cell_type": "code",
   "execution_count": 189,
   "metadata": {
    "Collapsed": "false"
   },
   "outputs": [],
   "source": [
    "tensor_train = tf.data.Dataset.from_tensor_slices(train_str_dict)\n",
    "tensor_test = tf.data.Dataset.from_tensor_slices(test_str_dict)"
   ]
  },
  {
   "cell_type": "code",
   "execution_count": 194,
   "metadata": {
    "Collapsed": "false"
   },
   "outputs": [
    {
     "data": {
      "text/plain": [
       "<TensorSliceDataset shapes: {enc_userID: (), enc_wine_id: (), recent: (), like: (), dislike: (), label: ()}, types: {enc_userID: tf.string, enc_wine_id: tf.string, recent: tf.string, like: tf.string, dislike: tf.string, label: tf.string}>"
      ]
     },
     "execution_count": 194,
     "metadata": {},
     "output_type": "execute_result"
    }
   ],
   "source": [
    "tensor_train"
   ]
  },
  {
   "cell_type": "code",
   "execution_count": 113,
   "metadata": {
    "Collapsed": "false",
    "collapsed": true,
    "jupyter": {
     "outputs_hidden": true
    }
   },
   "outputs": [
    {
     "name": "stderr",
     "output_type": "stream",
     "text": [
      "\n",
      "  0%|          | 0/56 [00:00<?, ?it/s]\u001b[A\n",
      "  2%|▏         | 1/56 [00:51<47:10, 51.47s/it]\u001b[A\n",
      "  4%|▎         | 2/56 [01:42<46:07, 51.26s/it]\u001b[A\n",
      "  5%|▌         | 3/56 [02:33<45:13, 51.19s/it]\u001b[A\n",
      "  7%|▋         | 4/56 [03:22<43:54, 50.66s/it]\u001b[A\n",
      "  9%|▉         | 5/56 [04:12<42:47, 50.33s/it]\u001b[A\n",
      " 11%|█         | 6/56 [05:02<41:50, 50.21s/it]\u001b[A\n",
      " 12%|█▎        | 7/56 [05:50<40:37, 49.74s/it]\u001b[A\n",
      " 14%|█▍        | 8/56 [06:44<40:47, 50.99s/it]\u001b[A\n",
      " 16%|█▌        | 9/56 [07:37<40:21, 51.53s/it]\u001b[A\n",
      " 18%|█▊        | 10/56 [08:29<39:33, 51.59s/it]\u001b[A\n",
      " 20%|█▉        | 11/56 [09:19<38:24, 51.21s/it]\u001b[A\n",
      " 21%|██▏       | 12/56 [10:11<37:36, 51.29s/it]\u001b[A\n",
      " 23%|██▎       | 13/56 [11:00<36:15, 50.59s/it]\u001b[A\n",
      " 25%|██▌       | 14/56 [11:50<35:19, 50.47s/it]\u001b[A\n",
      " 27%|██▋       | 15/56 [12:40<34:22, 50.31s/it]\u001b[A\n",
      " 29%|██▊       | 16/56 [13:27<32:57, 49.44s/it]\u001b[A\n",
      " 30%|███       | 17/56 [14:17<32:11, 49.51s/it]\u001b[A\n",
      " 32%|███▏      | 18/56 [15:05<31:10, 49.23s/it]\u001b[A\n",
      " 34%|███▍      | 19/56 [15:54<30:11, 48.97s/it]\u001b[A\n",
      " 36%|███▌      | 20/56 [16:43<29:23, 48.97s/it]\u001b[A\n",
      " 38%|███▊      | 21/56 [17:30<28:12, 48.37s/it]\u001b[A\n",
      " 39%|███▉      | 22/56 [18:17<27:10, 47.96s/it]\u001b[A\n",
      " 41%|████      | 23/56 [19:04<26:18, 47.84s/it]\u001b[A\n",
      " 43%|████▎     | 24/56 [19:52<25:28, 47.75s/it]\u001b[A\n",
      " 45%|████▍     | 25/56 [20:40<24:40, 47.77s/it]\u001b[A\n",
      " 46%|████▋     | 26/56 [21:26<23:44, 47.48s/it]\u001b[A\n",
      " 48%|████▊     | 27/56 [22:13<22:51, 47.30s/it]\u001b[A\n",
      " 50%|█████     | 28/56 [23:01<22:06, 47.36s/it]\u001b[A\n",
      " 52%|█████▏    | 29/56 [23:48<21:20, 47.42s/it]\u001b[A\n",
      " 54%|█████▎    | 30/56 [24:36<20:31, 47.37s/it]\u001b[A\n",
      " 55%|█████▌    | 31/56 [25:22<19:40, 47.23s/it]\u001b[A\n",
      " 57%|█████▋    | 32/56 [26:10<18:53, 47.21s/it]\u001b[A\n",
      " 59%|█████▉    | 33/56 [26:58<18:13, 47.53s/it]\u001b[A\n",
      " 61%|██████    | 34/56 [27:45<17:25, 47.51s/it]\u001b[A\n",
      " 62%|██████▎   | 35/56 [28:32<16:32, 47.26s/it]\u001b[A\n",
      " 64%|██████▍   | 36/56 [29:19<15:44, 47.20s/it]\u001b[A\n",
      " 66%|██████▌   | 37/56 [30:07<14:58, 47.29s/it]\u001b[A\n",
      " 68%|██████▊   | 38/56 [30:54<14:13, 47.42s/it]\u001b[A\n",
      " 70%|██████▉   | 39/56 [31:41<13:23, 47.28s/it]\u001b[A\n",
      " 71%|███████▏  | 40/56 [32:28<12:33, 47.12s/it]\u001b[A\n",
      " 73%|███████▎  | 41/56 [33:15<11:48, 47.21s/it]\u001b[A\n",
      " 75%|███████▌  | 42/56 [34:03<11:01, 47.27s/it]\u001b[A\n",
      " 77%|███████▋  | 43/56 [34:50<10:13, 47.22s/it]\u001b[A\n",
      " 79%|███████▊  | 44/56 [35:37<09:24, 47.03s/it]\u001b[A\n",
      " 80%|████████  | 45/56 [36:23<08:37, 47.01s/it]\u001b[A\n",
      " 82%|████████▏ | 46/56 [37:11<07:51, 47.11s/it]\u001b[A\n",
      " 84%|████████▍ | 47/56 [37:58<07:04, 47.17s/it]\u001b[A\n",
      " 86%|████████▌ | 48/56 [38:45<06:16, 47.09s/it]\u001b[A\n",
      " 88%|████████▊ | 49/56 [39:32<05:29, 47.09s/it]\u001b[A\n",
      " 89%|████████▉ | 50/56 [40:21<04:45, 47.61s/it]\u001b[A\n",
      " 91%|█████████ | 51/56 [41:10<04:00, 48.05s/it]\u001b[A\n",
      " 93%|█████████▎| 52/56 [42:10<03:26, 51.59s/it]\u001b[A\n",
      " 95%|█████████▍| 53/56 [43:02<02:35, 51.81s/it]\u001b[A\n",
      " 96%|█████████▋| 54/56 [43:53<01:43, 51.59s/it]\u001b[A\n",
      " 98%|█████████▊| 55/56 [44:43<00:50, 50.99s/it]\u001b[A"
     ]
    },
    {
     "ename": "KeyError",
     "evalue": "in user code:\n\n    <ipython-input-97-d37115fb2f45>:4 None  *\n        lambda x: x[feature_name])\n\n    KeyError: 'label'\n",
     "output_type": "error",
     "traceback": [
      "\u001b[0;31m---------------------------------------------------------------------------\u001b[0m",
      "\u001b[0;31mKeyError\u001b[0m                                  Traceback (most recent call last)",
      "\u001b[0;32m<ipython-input-113-341316ec7f66>\u001b[0m in \u001b[0;36m<module>\u001b[0;34m\u001b[0m\n\u001b[1;32m      2\u001b[0m \u001b[0;34m\u001b[0m\u001b[0m\n\u001b[1;32m      3\u001b[0m \u001b[0;32mfor\u001b[0m \u001b[0mfeature_name\u001b[0m \u001b[0;32min\u001b[0m \u001b[0mtqdm\u001b[0m\u001b[0;34m(\u001b[0m\u001b[0mfeature_names\u001b[0m\u001b[0;34m)\u001b[0m\u001b[0;34m:\u001b[0m\u001b[0;34m\u001b[0m\u001b[0;34m\u001b[0m\u001b[0m\n\u001b[0;32m----> 4\u001b[0;31m     \u001b[0mvocab\u001b[0m \u001b[0;34m=\u001b[0m \u001b[0mtensor_train\u001b[0m\u001b[0;34m.\u001b[0m\u001b[0mbatch\u001b[0m\u001b[0;34m(\u001b[0m\u001b[0;36m1_000_000\u001b[0m\u001b[0;34m)\u001b[0m\u001b[0;34m.\u001b[0m\u001b[0mmap\u001b[0m\u001b[0;34m(\u001b[0m\u001b[0;32mlambda\u001b[0m \u001b[0mx\u001b[0m\u001b[0;34m:\u001b[0m \u001b[0mx\u001b[0m\u001b[0;34m[\u001b[0m\u001b[0mfeature_name\u001b[0m\u001b[0;34m]\u001b[0m\u001b[0;34m)\u001b[0m\u001b[0;34m\u001b[0m\u001b[0;34m\u001b[0m\u001b[0m\n\u001b[0m\u001b[1;32m      5\u001b[0m     \u001b[0mvocabularies\u001b[0m\u001b[0;34m[\u001b[0m\u001b[0mfeature_name\u001b[0m\u001b[0;34m]\u001b[0m \u001b[0;34m=\u001b[0m \u001b[0mnp\u001b[0m\u001b[0;34m.\u001b[0m\u001b[0munique\u001b[0m\u001b[0;34m(\u001b[0m\u001b[0mnp\u001b[0m\u001b[0;34m.\u001b[0m\u001b[0mconcatenate\u001b[0m\u001b[0;34m(\u001b[0m\u001b[0mlist\u001b[0m\u001b[0;34m(\u001b[0m\u001b[0mvocab\u001b[0m\u001b[0;34m)\u001b[0m\u001b[0;34m)\u001b[0m\u001b[0;34m)\u001b[0m\u001b[0;34m\u001b[0m\u001b[0;34m\u001b[0m\u001b[0m\n",
      "\u001b[0;32m~/opt/anaconda3/lib/python3.7/site-packages/tensorflow/python/data/ops/dataset_ops.py\u001b[0m in \u001b[0;36mmap\u001b[0;34m(self, map_func, num_parallel_calls, deterministic)\u001b[0m\n\u001b[1;32m   1803\u001b[0m     \"\"\"\n\u001b[1;32m   1804\u001b[0m     \u001b[0;32mif\u001b[0m \u001b[0mnum_parallel_calls\u001b[0m \u001b[0;32mis\u001b[0m \u001b[0;32mNone\u001b[0m\u001b[0;34m:\u001b[0m\u001b[0;34m\u001b[0m\u001b[0;34m\u001b[0m\u001b[0m\n\u001b[0;32m-> 1805\u001b[0;31m       \u001b[0;32mreturn\u001b[0m \u001b[0mMapDataset\u001b[0m\u001b[0;34m(\u001b[0m\u001b[0mself\u001b[0m\u001b[0;34m,\u001b[0m \u001b[0mmap_func\u001b[0m\u001b[0;34m,\u001b[0m \u001b[0mpreserve_cardinality\u001b[0m\u001b[0;34m=\u001b[0m\u001b[0;32mTrue\u001b[0m\u001b[0;34m)\u001b[0m\u001b[0;34m\u001b[0m\u001b[0;34m\u001b[0m\u001b[0m\n\u001b[0m\u001b[1;32m   1806\u001b[0m     \u001b[0;32melse\u001b[0m\u001b[0;34m:\u001b[0m\u001b[0;34m\u001b[0m\u001b[0;34m\u001b[0m\u001b[0m\n\u001b[1;32m   1807\u001b[0m       return ParallelMapDataset(\n",
      "\u001b[0;32m~/opt/anaconda3/lib/python3.7/site-packages/tensorflow/python/data/ops/dataset_ops.py\u001b[0m in \u001b[0;36m__init__\u001b[0;34m(self, input_dataset, map_func, use_inter_op_parallelism, preserve_cardinality, use_legacy_function)\u001b[0m\n\u001b[1;32m   4205\u001b[0m         \u001b[0mself\u001b[0m\u001b[0;34m.\u001b[0m\u001b[0m_transformation_name\u001b[0m\u001b[0;34m(\u001b[0m\u001b[0;34m)\u001b[0m\u001b[0;34m,\u001b[0m\u001b[0;34m\u001b[0m\u001b[0;34m\u001b[0m\u001b[0m\n\u001b[1;32m   4206\u001b[0m         \u001b[0mdataset\u001b[0m\u001b[0;34m=\u001b[0m\u001b[0minput_dataset\u001b[0m\u001b[0;34m,\u001b[0m\u001b[0;34m\u001b[0m\u001b[0;34m\u001b[0m\u001b[0m\n\u001b[0;32m-> 4207\u001b[0;31m         use_legacy_function=use_legacy_function)\n\u001b[0m\u001b[1;32m   4208\u001b[0m     variant_tensor = gen_dataset_ops.map_dataset(\n\u001b[1;32m   4209\u001b[0m         \u001b[0minput_dataset\u001b[0m\u001b[0;34m.\u001b[0m\u001b[0m_variant_tensor\u001b[0m\u001b[0;34m,\u001b[0m  \u001b[0;31m# pylint: disable=protected-access\u001b[0m\u001b[0;34m\u001b[0m\u001b[0;34m\u001b[0m\u001b[0m\n",
      "\u001b[0;32m~/opt/anaconda3/lib/python3.7/site-packages/tensorflow/python/data/ops/dataset_ops.py\u001b[0m in \u001b[0;36m__init__\u001b[0;34m(self, func, transformation_name, dataset, input_classes, input_shapes, input_types, input_structure, add_to_graph, use_legacy_function, defun_kwargs)\u001b[0m\n\u001b[1;32m   3523\u001b[0m       \u001b[0;32mwith\u001b[0m \u001b[0mtracking\u001b[0m\u001b[0;34m.\u001b[0m\u001b[0mresource_tracker_scope\u001b[0m\u001b[0;34m(\u001b[0m\u001b[0mresource_tracker\u001b[0m\u001b[0;34m)\u001b[0m\u001b[0;34m:\u001b[0m\u001b[0;34m\u001b[0m\u001b[0;34m\u001b[0m\u001b[0m\n\u001b[1;32m   3524\u001b[0m         \u001b[0;31m# TODO(b/141462134): Switch to using garbage collection.\u001b[0m\u001b[0;34m\u001b[0m\u001b[0;34m\u001b[0m\u001b[0;34m\u001b[0m\u001b[0m\n\u001b[0;32m-> 3525\u001b[0;31m         \u001b[0mself\u001b[0m\u001b[0;34m.\u001b[0m\u001b[0m_function\u001b[0m \u001b[0;34m=\u001b[0m \u001b[0mwrapper_fn\u001b[0m\u001b[0;34m.\u001b[0m\u001b[0mget_concrete_function\u001b[0m\u001b[0;34m(\u001b[0m\u001b[0;34m)\u001b[0m\u001b[0;34m\u001b[0m\u001b[0;34m\u001b[0m\u001b[0m\n\u001b[0m\u001b[1;32m   3526\u001b[0m         \u001b[0;32mif\u001b[0m \u001b[0madd_to_graph\u001b[0m\u001b[0;34m:\u001b[0m\u001b[0;34m\u001b[0m\u001b[0;34m\u001b[0m\u001b[0m\n\u001b[1;32m   3527\u001b[0m           \u001b[0mself\u001b[0m\u001b[0;34m.\u001b[0m\u001b[0m_function\u001b[0m\u001b[0;34m.\u001b[0m\u001b[0madd_to_graph\u001b[0m\u001b[0;34m(\u001b[0m\u001b[0mops\u001b[0m\u001b[0;34m.\u001b[0m\u001b[0mget_default_graph\u001b[0m\u001b[0;34m(\u001b[0m\u001b[0;34m)\u001b[0m\u001b[0;34m)\u001b[0m\u001b[0;34m\u001b[0m\u001b[0;34m\u001b[0m\u001b[0m\n",
      "\u001b[0;32m~/opt/anaconda3/lib/python3.7/site-packages/tensorflow/python/eager/function.py\u001b[0m in \u001b[0;36mget_concrete_function\u001b[0;34m(self, *args, **kwargs)\u001b[0m\n\u001b[1;32m   3050\u001b[0m     \"\"\"\n\u001b[1;32m   3051\u001b[0m     graph_function = self._get_concrete_function_garbage_collected(\n\u001b[0;32m-> 3052\u001b[0;31m         *args, **kwargs)\n\u001b[0m\u001b[1;32m   3053\u001b[0m     \u001b[0mgraph_function\u001b[0m\u001b[0;34m.\u001b[0m\u001b[0m_garbage_collector\u001b[0m\u001b[0;34m.\u001b[0m\u001b[0mrelease\u001b[0m\u001b[0;34m(\u001b[0m\u001b[0;34m)\u001b[0m  \u001b[0;31m# pylint: disable=protected-access\u001b[0m\u001b[0;34m\u001b[0m\u001b[0;34m\u001b[0m\u001b[0m\n\u001b[1;32m   3054\u001b[0m     \u001b[0;32mreturn\u001b[0m \u001b[0mgraph_function\u001b[0m\u001b[0;34m\u001b[0m\u001b[0;34m\u001b[0m\u001b[0m\n",
      "\u001b[0;32m~/opt/anaconda3/lib/python3.7/site-packages/tensorflow/python/eager/function.py\u001b[0m in \u001b[0;36m_get_concrete_function_garbage_collected\u001b[0;34m(self, *args, **kwargs)\u001b[0m\n\u001b[1;32m   3017\u001b[0m       \u001b[0margs\u001b[0m\u001b[0;34m,\u001b[0m \u001b[0mkwargs\u001b[0m \u001b[0;34m=\u001b[0m \u001b[0;32mNone\u001b[0m\u001b[0;34m,\u001b[0m \u001b[0;32mNone\u001b[0m\u001b[0;34m\u001b[0m\u001b[0;34m\u001b[0m\u001b[0m\n\u001b[1;32m   3018\u001b[0m     \u001b[0;32mwith\u001b[0m \u001b[0mself\u001b[0m\u001b[0;34m.\u001b[0m\u001b[0m_lock\u001b[0m\u001b[0;34m:\u001b[0m\u001b[0;34m\u001b[0m\u001b[0;34m\u001b[0m\u001b[0m\n\u001b[0;32m-> 3019\u001b[0;31m       \u001b[0mgraph_function\u001b[0m\u001b[0;34m,\u001b[0m \u001b[0m_\u001b[0m \u001b[0;34m=\u001b[0m \u001b[0mself\u001b[0m\u001b[0;34m.\u001b[0m\u001b[0m_maybe_define_function\u001b[0m\u001b[0;34m(\u001b[0m\u001b[0margs\u001b[0m\u001b[0;34m,\u001b[0m \u001b[0mkwargs\u001b[0m\u001b[0;34m)\u001b[0m\u001b[0;34m\u001b[0m\u001b[0;34m\u001b[0m\u001b[0m\n\u001b[0m\u001b[1;32m   3020\u001b[0m       \u001b[0mseen_names\u001b[0m \u001b[0;34m=\u001b[0m \u001b[0mset\u001b[0m\u001b[0;34m(\u001b[0m\u001b[0;34m)\u001b[0m\u001b[0;34m\u001b[0m\u001b[0;34m\u001b[0m\u001b[0m\n\u001b[1;32m   3021\u001b[0m       captured = object_identity.ObjectIdentitySet(\n",
      "\u001b[0;32m~/opt/anaconda3/lib/python3.7/site-packages/tensorflow/python/eager/function.py\u001b[0m in \u001b[0;36m_maybe_define_function\u001b[0;34m(self, args, kwargs)\u001b[0m\n\u001b[1;32m   3359\u001b[0m \u001b[0;34m\u001b[0m\u001b[0m\n\u001b[1;32m   3360\u001b[0m           \u001b[0mself\u001b[0m\u001b[0;34m.\u001b[0m\u001b[0m_function_cache\u001b[0m\u001b[0;34m.\u001b[0m\u001b[0mmissed\u001b[0m\u001b[0;34m.\u001b[0m\u001b[0madd\u001b[0m\u001b[0;34m(\u001b[0m\u001b[0mcall_context_key\u001b[0m\u001b[0;34m)\u001b[0m\u001b[0;34m\u001b[0m\u001b[0;34m\u001b[0m\u001b[0m\n\u001b[0;32m-> 3361\u001b[0;31m           \u001b[0mgraph_function\u001b[0m \u001b[0;34m=\u001b[0m \u001b[0mself\u001b[0m\u001b[0;34m.\u001b[0m\u001b[0m_create_graph_function\u001b[0m\u001b[0;34m(\u001b[0m\u001b[0margs\u001b[0m\u001b[0;34m,\u001b[0m \u001b[0mkwargs\u001b[0m\u001b[0;34m)\u001b[0m\u001b[0;34m\u001b[0m\u001b[0;34m\u001b[0m\u001b[0m\n\u001b[0m\u001b[1;32m   3362\u001b[0m           \u001b[0mself\u001b[0m\u001b[0;34m.\u001b[0m\u001b[0m_function_cache\u001b[0m\u001b[0;34m.\u001b[0m\u001b[0mprimary\u001b[0m\u001b[0;34m[\u001b[0m\u001b[0mcache_key\u001b[0m\u001b[0;34m]\u001b[0m \u001b[0;34m=\u001b[0m \u001b[0mgraph_function\u001b[0m\u001b[0;34m\u001b[0m\u001b[0;34m\u001b[0m\u001b[0m\n\u001b[1;32m   3363\u001b[0m \u001b[0;34m\u001b[0m\u001b[0m\n",
      "\u001b[0;32m~/opt/anaconda3/lib/python3.7/site-packages/tensorflow/python/eager/function.py\u001b[0m in \u001b[0;36m_create_graph_function\u001b[0;34m(self, args, kwargs, override_flat_arg_shapes)\u001b[0m\n\u001b[1;32m   3204\u001b[0m             \u001b[0marg_names\u001b[0m\u001b[0;34m=\u001b[0m\u001b[0marg_names\u001b[0m\u001b[0;34m,\u001b[0m\u001b[0;34m\u001b[0m\u001b[0;34m\u001b[0m\u001b[0m\n\u001b[1;32m   3205\u001b[0m             \u001b[0moverride_flat_arg_shapes\u001b[0m\u001b[0;34m=\u001b[0m\u001b[0moverride_flat_arg_shapes\u001b[0m\u001b[0;34m,\u001b[0m\u001b[0;34m\u001b[0m\u001b[0;34m\u001b[0m\u001b[0m\n\u001b[0;32m-> 3206\u001b[0;31m             capture_by_value=self._capture_by_value),\n\u001b[0m\u001b[1;32m   3207\u001b[0m         \u001b[0mself\u001b[0m\u001b[0;34m.\u001b[0m\u001b[0m_function_attributes\u001b[0m\u001b[0;34m,\u001b[0m\u001b[0;34m\u001b[0m\u001b[0;34m\u001b[0m\u001b[0m\n\u001b[1;32m   3208\u001b[0m         \u001b[0mfunction_spec\u001b[0m\u001b[0;34m=\u001b[0m\u001b[0mself\u001b[0m\u001b[0;34m.\u001b[0m\u001b[0mfunction_spec\u001b[0m\u001b[0;34m,\u001b[0m\u001b[0;34m\u001b[0m\u001b[0;34m\u001b[0m\u001b[0m\n",
      "\u001b[0;32m~/opt/anaconda3/lib/python3.7/site-packages/tensorflow/python/framework/func_graph.py\u001b[0m in \u001b[0;36mfunc_graph_from_py_func\u001b[0;34m(name, python_func, args, kwargs, signature, func_graph, autograph, autograph_options, add_control_dependencies, arg_names, op_return_value, collections, capture_by_value, override_flat_arg_shapes)\u001b[0m\n\u001b[1;32m    988\u001b[0m         \u001b[0m_\u001b[0m\u001b[0;34m,\u001b[0m \u001b[0moriginal_func\u001b[0m \u001b[0;34m=\u001b[0m \u001b[0mtf_decorator\u001b[0m\u001b[0;34m.\u001b[0m\u001b[0munwrap\u001b[0m\u001b[0;34m(\u001b[0m\u001b[0mpython_func\u001b[0m\u001b[0;34m)\u001b[0m\u001b[0;34m\u001b[0m\u001b[0;34m\u001b[0m\u001b[0m\n\u001b[1;32m    989\u001b[0m \u001b[0;34m\u001b[0m\u001b[0m\n\u001b[0;32m--> 990\u001b[0;31m       \u001b[0mfunc_outputs\u001b[0m \u001b[0;34m=\u001b[0m \u001b[0mpython_func\u001b[0m\u001b[0;34m(\u001b[0m\u001b[0;34m*\u001b[0m\u001b[0mfunc_args\u001b[0m\u001b[0;34m,\u001b[0m \u001b[0;34m**\u001b[0m\u001b[0mfunc_kwargs\u001b[0m\u001b[0;34m)\u001b[0m\u001b[0;34m\u001b[0m\u001b[0;34m\u001b[0m\u001b[0m\n\u001b[0m\u001b[1;32m    991\u001b[0m \u001b[0;34m\u001b[0m\u001b[0m\n\u001b[1;32m    992\u001b[0m       \u001b[0;31m# invariant: `func_outputs` contains only Tensors, CompositeTensors,\u001b[0m\u001b[0;34m\u001b[0m\u001b[0;34m\u001b[0m\u001b[0;34m\u001b[0m\u001b[0m\n",
      "\u001b[0;32m~/opt/anaconda3/lib/python3.7/site-packages/tensorflow/python/data/ops/dataset_ops.py\u001b[0m in \u001b[0;36mwrapper_fn\u001b[0;34m(*args)\u001b[0m\n\u001b[1;32m   3516\u001b[0m           attributes=defun_kwargs)\n\u001b[1;32m   3517\u001b[0m       \u001b[0;32mdef\u001b[0m \u001b[0mwrapper_fn\u001b[0m\u001b[0;34m(\u001b[0m\u001b[0;34m*\u001b[0m\u001b[0margs\u001b[0m\u001b[0;34m)\u001b[0m\u001b[0;34m:\u001b[0m  \u001b[0;31m# pylint: disable=missing-docstring\u001b[0m\u001b[0;34m\u001b[0m\u001b[0;34m\u001b[0m\u001b[0m\n\u001b[0;32m-> 3518\u001b[0;31m         \u001b[0mret\u001b[0m \u001b[0;34m=\u001b[0m \u001b[0m_wrapper_helper\u001b[0m\u001b[0;34m(\u001b[0m\u001b[0;34m*\u001b[0m\u001b[0margs\u001b[0m\u001b[0;34m)\u001b[0m\u001b[0;34m\u001b[0m\u001b[0;34m\u001b[0m\u001b[0m\n\u001b[0m\u001b[1;32m   3519\u001b[0m         \u001b[0mret\u001b[0m \u001b[0;34m=\u001b[0m \u001b[0mstructure\u001b[0m\u001b[0;34m.\u001b[0m\u001b[0mto_tensor_list\u001b[0m\u001b[0;34m(\u001b[0m\u001b[0mself\u001b[0m\u001b[0;34m.\u001b[0m\u001b[0m_output_structure\u001b[0m\u001b[0;34m,\u001b[0m \u001b[0mret\u001b[0m\u001b[0;34m)\u001b[0m\u001b[0;34m\u001b[0m\u001b[0;34m\u001b[0m\u001b[0m\n\u001b[1;32m   3520\u001b[0m         \u001b[0;32mreturn\u001b[0m \u001b[0;34m[\u001b[0m\u001b[0mops\u001b[0m\u001b[0;34m.\u001b[0m\u001b[0mconvert_to_tensor\u001b[0m\u001b[0;34m(\u001b[0m\u001b[0mt\u001b[0m\u001b[0;34m)\u001b[0m \u001b[0;32mfor\u001b[0m \u001b[0mt\u001b[0m \u001b[0;32min\u001b[0m \u001b[0mret\u001b[0m\u001b[0;34m]\u001b[0m\u001b[0;34m\u001b[0m\u001b[0;34m\u001b[0m\u001b[0m\n",
      "\u001b[0;32m~/opt/anaconda3/lib/python3.7/site-packages/tensorflow/python/data/ops/dataset_ops.py\u001b[0m in \u001b[0;36m_wrapper_helper\u001b[0;34m(*args)\u001b[0m\n\u001b[1;32m   3451\u001b[0m         \u001b[0mnested_args\u001b[0m \u001b[0;34m=\u001b[0m \u001b[0;34m(\u001b[0m\u001b[0mnested_args\u001b[0m\u001b[0;34m,\u001b[0m\u001b[0;34m)\u001b[0m\u001b[0;34m\u001b[0m\u001b[0;34m\u001b[0m\u001b[0m\n\u001b[1;32m   3452\u001b[0m \u001b[0;34m\u001b[0m\u001b[0m\n\u001b[0;32m-> 3453\u001b[0;31m       \u001b[0mret\u001b[0m \u001b[0;34m=\u001b[0m \u001b[0mautograph\u001b[0m\u001b[0;34m.\u001b[0m\u001b[0mtf_convert\u001b[0m\u001b[0;34m(\u001b[0m\u001b[0mfunc\u001b[0m\u001b[0;34m,\u001b[0m \u001b[0mag_ctx\u001b[0m\u001b[0;34m)\u001b[0m\u001b[0;34m(\u001b[0m\u001b[0;34m*\u001b[0m\u001b[0mnested_args\u001b[0m\u001b[0;34m)\u001b[0m\u001b[0;34m\u001b[0m\u001b[0;34m\u001b[0m\u001b[0m\n\u001b[0m\u001b[1;32m   3454\u001b[0m       \u001b[0;31m# If `func` returns a list of tensors, `nest.flatten()` and\u001b[0m\u001b[0;34m\u001b[0m\u001b[0;34m\u001b[0m\u001b[0;34m\u001b[0m\u001b[0m\n\u001b[1;32m   3455\u001b[0m       \u001b[0;31m# `ops.convert_to_tensor()` would conspire to attempt to stack\u001b[0m\u001b[0;34m\u001b[0m\u001b[0;34m\u001b[0m\u001b[0;34m\u001b[0m\u001b[0m\n",
      "\u001b[0;32m~/opt/anaconda3/lib/python3.7/site-packages/tensorflow/python/autograph/impl/api.py\u001b[0m in \u001b[0;36mwrapper\u001b[0;34m(*args, **kwargs)\u001b[0m\n\u001b[1;32m    668\u001b[0m       \u001b[0;32mexcept\u001b[0m \u001b[0mException\u001b[0m \u001b[0;32mas\u001b[0m \u001b[0me\u001b[0m\u001b[0;34m:\u001b[0m  \u001b[0;31m# pylint:disable=broad-except\u001b[0m\u001b[0;34m\u001b[0m\u001b[0;34m\u001b[0m\u001b[0m\n\u001b[1;32m    669\u001b[0m         \u001b[0;32mif\u001b[0m \u001b[0mhasattr\u001b[0m\u001b[0;34m(\u001b[0m\u001b[0me\u001b[0m\u001b[0;34m,\u001b[0m \u001b[0;34m'ag_error_metadata'\u001b[0m\u001b[0;34m)\u001b[0m\u001b[0;34m:\u001b[0m\u001b[0;34m\u001b[0m\u001b[0;34m\u001b[0m\u001b[0m\n\u001b[0;32m--> 670\u001b[0;31m           \u001b[0;32mraise\u001b[0m \u001b[0me\u001b[0m\u001b[0;34m.\u001b[0m\u001b[0mag_error_metadata\u001b[0m\u001b[0;34m.\u001b[0m\u001b[0mto_exception\u001b[0m\u001b[0;34m(\u001b[0m\u001b[0me\u001b[0m\u001b[0;34m)\u001b[0m\u001b[0;34m\u001b[0m\u001b[0;34m\u001b[0m\u001b[0m\n\u001b[0m\u001b[1;32m    671\u001b[0m         \u001b[0;32melse\u001b[0m\u001b[0;34m:\u001b[0m\u001b[0;34m\u001b[0m\u001b[0;34m\u001b[0m\u001b[0m\n\u001b[1;32m    672\u001b[0m           \u001b[0;32mraise\u001b[0m\u001b[0;34m\u001b[0m\u001b[0;34m\u001b[0m\u001b[0m\n",
      "\u001b[0;31mKeyError\u001b[0m: in user code:\n\n    <ipython-input-97-d37115fb2f45>:4 None  *\n        lambda x: x[feature_name])\n\n    KeyError: 'label'\n"
     ]
    }
   ],
   "source": [
    "vocabularies = {}\n",
    "\n",
    "for feature_name in tqdm(feature_names):\n",
    "    vocab = tensor_train.batch(1_000_000).map(lambda x: x[feature_name])\n",
    "    vocabularies[feature_name] = np.unique(np.concatenate(list(vocab)))"
   ]
  },
  {
   "cell_type": "code",
   "execution_count": 193,
   "metadata": {
    "Collapsed": "false"
   },
   "outputs": [
    {
     "data": {
      "text/plain": [
       "dict_keys(['enc_userID', 'enc_wine_id', 'recent', 'like', 'dislike', 'pca_1', 'pca_2', 'pca_3', 'pca_4', 'pca_5', 'pca_6', 'pca_7', 'pca_8', 'pca_9', 'pca_10', 'pca_11', 'pca_12', 'pca_13', 'pca_14', 'pca_15', 'pca_16', 'pca_17', 'pca_18', 'pca_19', 'pca_20', 'pca_21', 'pca_22', 'pca_23', 'pca_24', 'pca_25', 'pca_26', 'pca_27', 'pca_28', 'pca_29', 'pca_30', 'pca_31', 'pca_32', 'pca_33', 'pca_34', 'pca_35', 'pca_36', 'pca_37', 'pca_38', 'pca_39', 'pca_40', 'pca_41', 'pca_42', 'pca_43', 'pca_44', 'pca_45', 'pca_46', 'pca_47', 'pca_48', 'pca_49', 'pca_50', 'label'])"
      ]
     },
     "execution_count": 193,
     "metadata": {},
     "output_type": "execute_result"
    }
   ],
   "source": [
    "vocabularies.keys()"
   ]
  },
  {
   "cell_type": "code",
   "execution_count": 160,
   "metadata": {
    "Collapsed": "false"
   },
   "outputs": [
    {
     "data": {
      "text/plain": [
       "{'label': array([0, 1])}"
      ]
     },
     "execution_count": 160,
     "metadata": {},
     "output_type": "execute_result"
    }
   ],
   "source": [
    "label_dict = {}\n",
    "label_dict['label'] = np.array([0,1])\n",
    "label_dict"
   ]
  },
  {
   "cell_type": "code",
   "execution_count": 161,
   "metadata": {
    "Collapsed": "false"
   },
   "outputs": [],
   "source": [
    "vocabularies.update(label_dict)"
   ]
  },
  {
   "cell_type": "code",
   "execution_count": 162,
   "metadata": {
    "Collapsed": "false"
   },
   "outputs": [
    {
     "data": {
      "text/plain": [
       "dict_keys(['enc_userID', 'enc_wine_id', 'recent', 'like', 'dislike', 'pca_1', 'pca_2', 'pca_3', 'pca_4', 'pca_5', 'pca_6', 'pca_7', 'pca_8', 'pca_9', 'pca_10', 'pca_11', 'pca_12', 'pca_13', 'pca_14', 'pca_15', 'pca_16', 'pca_17', 'pca_18', 'pca_19', 'pca_20', 'pca_21', 'pca_22', 'pca_23', 'pca_24', 'pca_25', 'pca_26', 'pca_27', 'pca_28', 'pca_29', 'pca_30', 'pca_31', 'pca_32', 'pca_33', 'pca_34', 'pca_35', 'pca_36', 'pca_37', 'pca_38', 'pca_39', 'pca_40', 'pca_41', 'pca_42', 'pca_43', 'pca_44', 'pca_45', 'pca_46', 'pca_47', 'pca_48', 'pca_49', 'pca_50', 'label'])"
      ]
     },
     "execution_count": 162,
     "metadata": {},
     "output_type": "execute_result"
    }
   ],
   "source": [
    "vocabularies.keys()"
   ]
  },
  {
   "cell_type": "code",
   "execution_count": 207,
   "metadata": {
    "Collapsed": "false"
   },
   "outputs": [],
   "source": [
    "for i in range(1, 51):\n",
    "    del vocabularies['pca_{}'.format(i)]"
   ]
  },
  {
   "cell_type": "code",
   "execution_count": 208,
   "metadata": {
    "Collapsed": "false"
   },
   "outputs": [
    {
     "data": {
      "text/plain": [
       "{'enc_userID': array([b'0', b'1', b'10', ..., b'997', b'998', b'999'], dtype=object),\n",
       " 'enc_wine_id': array([b'0', b'1', b'10', ..., b'9997', b'9998', b'9999'], dtype=object),\n",
       " 'recent': array([b'[0, 10559, 34593, 3101, 34925, 10460, 643, 23106, 49764, 76]',\n",
       "        b'[0, 11364, 26590, 10510, 18922, 3588, 1041, 21797, 817, 25264]',\n",
       "        b'[0, 11537, 46496, 1632, 19973, 33741, 20280, 34011, 14916, 41713]',\n",
       "        ...,\n",
       "        b'[9999, 9999, 8904, 11183, 6072, 16258, 19029, 242, 22127, 40771]',\n",
       "        b'[9999]', b'[]'], dtype=object),\n",
       " 'like': array([b'[0, 7015, 14999, 9101, 46640, 15441, 11071, 14187, 461, 25334]',\n",
       "        b'[1, 17889, 16332, 13516, 28520, 9728, 12891, 8930, 47784, 1016]',\n",
       "        b'[1, 25678, 25944, 1513, 6730, 16549, 19269, 19051, 12583, 21715]',\n",
       "        ..., b'[9999]', b'[99]', b'[]'], dtype=object),\n",
       " 'dislike': array([b'[0, 1010, 26076, 19312, 14126, 19824, 7872, 15863, 22354, 13118]',\n",
       "        b'[0, 11307, 10033, 11087, 20593, 6568, 4469, 26118, 13022, 38314]',\n",
       "        b'[0, 14954, 17230, 17231]', ...,\n",
       "        b'[9999, 39246, 14865, 4754, 39226, 39544, 10070, 375, 45683, 27417]',\n",
       "        b'[99]', b'[]'], dtype=object),\n",
       " 'label': array([0, 1])}"
      ]
     },
     "execution_count": 208,
     "metadata": {},
     "output_type": "execute_result"
    }
   ],
   "source": [
    "vocabularies"
   ]
  },
  {
   "cell_type": "code",
   "execution_count": 163,
   "metadata": {
    "Collapsed": "false"
   },
   "outputs": [],
   "source": [
    "cached_train = tensor_train.shuffle(100_000).batch(8192).cache()\n",
    "cached_test = tensor_test.batch(4096).cache()"
   ]
  },
  {
   "cell_type": "code",
   "execution_count": 164,
   "metadata": {
    "Collapsed": "false"
   },
   "outputs": [],
   "source": [
    "def run_models(use_cross_layer, deep_layer_sizes, projection_dim=None, num_runs=5):\n",
    "    models = []\n",
    "    rmses = []\n",
    "\n",
    "    for i in range(num_runs):\n",
    "        model = DCN(use_cross_layer=use_cross_layer,\n",
    "                    deep_layer_sizes=deep_layer_sizes,\n",
    "                    projection_dim=projection_dim)\n",
    "        model.compile(optimizer=tf.keras.optimizers.Adam(learning_rate))\n",
    "        models.append(model)\n",
    "\n",
    "        model.fit(cached_train, epochs=epochs, verbose=False)\n",
    "        metrics = model.evaluate(cached_test, return_dict=True)\n",
    "        rmses.append(metrics[\"RMSE\"])\n",
    "\n",
    "    mean, stdv = np.average(rmses), np.std(rmses)\n",
    "\n",
    "    return {\"model\": models, \"mean\": mean, \"stdv\": stdv}"
   ]
  },
  {
   "cell_type": "code",
   "execution_count": 165,
   "metadata": {
    "Collapsed": "false"
   },
   "outputs": [],
   "source": [
    "epochs = 5\n",
    "learning_rate = 0.01"
   ]
  },
  {
   "cell_type": "code",
   "execution_count": 216,
   "metadata": {
    "Collapsed": "false"
   },
   "outputs": [],
   "source": [
    "class DCN(tfrs.Model):\n",
    "    \n",
    "    def __init__(self, use_cross_layer, deep_layer_sizes, projection_dim=None):\n",
    "        super().__init__()\n",
    "\n",
    "        self.embedding_dimension = 32\n",
    "\n",
    "        str_features = ['enc_userID', 'enc_wine_id', 'recent', 'like', 'dislike']\n",
    "        str_features = ['enc_userID', 'enc_wine_id']\n",
    "#         int_features = ['pca_{}'.format(i) for i in range(1, 51)]\n",
    "        int_features = []\n",
    "\n",
    "        self._all_features = str_features + int_features\n",
    "        self._embeddings = {}\n",
    "\n",
    "        # Compute embeddings for string features.\n",
    "        for feature_name in str_features:\n",
    "            vocabulary = vocabularies[feature_name]\n",
    "            self._embeddings[feature_name] = tf.keras.Sequential(\n",
    "                [tf.keras.layers.experimental.preprocessing.StringLookup(\n",
    "                    vocabulary=vocabulary, mask_token=None),\n",
    "                 tf.keras.layers.Embedding(len(vocabulary) + 1,\n",
    "                                           self.embedding_dimension)\n",
    "                ])\n",
    "\n",
    "        # Compute embeddings for int features.\n",
    "        for feature_name in int_features:\n",
    "            vocabulary = vocabularies[feature_name]\n",
    "            self._embeddings[feature_name] = tf.keras.Sequential(\n",
    "              [tf.keras.layers.experimental.preprocessing.IntegerLookup(\n",
    "                  vocabulary=vocabulary, mask_value=None),\n",
    "               tf.keras.layers.Embedding(len(vocabulary) + 1,\n",
    "                                         self.embedding_dimension)\n",
    "              ])\n",
    "\n",
    "        if use_cross_layer:\n",
    "            self._cross_layer = tfrs.layers.dcn.Cross(\n",
    "              projection_dim=projection_dim,\n",
    "              kernel_initializer=\"glorot_uniform\")\n",
    "        else:\n",
    "            self._cross_layer = None\n",
    "\n",
    "        self._deep_layers = [tf.keras.layers.Dense(layer_size, activation=\"relu\")\n",
    "          for layer_size in deep_layer_sizes]\n",
    "\n",
    "        self._logit_layer = tf.keras.layers.Dense(1)\n",
    "\n",
    "        self.task = tfrs.tasks.Ranking(\n",
    "          loss=tf.keras.losses.MeanSquaredError(),\n",
    "#             loss = tf.keras.losses.BinaryCrossentropy(),\n",
    "          metrics = [tf.keras.metrics.RootMeanSquaredError(\"RMSE\")]\n",
    "#             metrics = ['acc']\n",
    "        )\n",
    "\n",
    "    def call(self, features):\n",
    "        # Concatenate embeddings\n",
    "        embeddings = []\n",
    "        for feature_name in self._all_features:\n",
    "            embedding_fn = self._embeddings[feature_name]\n",
    "            embeddings.append(embedding_fn(features[feature_name]))\n",
    "\n",
    "        x = tf.concat(embeddings, axis=1)\n",
    "\n",
    "        # Build Cross Network\n",
    "        if self._cross_layer is not None:\n",
    "            x = self._cross_layer(x)\n",
    "\n",
    "        # Build Deep Network\n",
    "        for deep_layer in self._deep_layers:\n",
    "            x = deep_layer(x)\n",
    "\n",
    "        return self._logit_layer(x)\n",
    "\n",
    "    def compute_loss(self, features, training=False):\n",
    "        labels = features.pop(\"label\")\n",
    "        scores = self(features)\n",
    "        return self.task(\n",
    "            labels=labels,\n",
    "            predictions=scores,\n",
    "        )"
   ]
  },
  {
   "cell_type": "code",
   "execution_count": 217,
   "metadata": {
    "Collapsed": "false"
   },
   "outputs": [],
   "source": [
    "model = DCN(use_cross_layer=None, deep_layer_sizes=[192, 192], projection_dim=None)"
   ]
  },
  {
   "cell_type": "code",
   "execution_count": 218,
   "metadata": {
    "Collapsed": "false"
   },
   "outputs": [],
   "source": [
    "model.compile(optimizer=tf.keras.optimizers.Adam(learning_rate))"
   ]
  },
  {
   "cell_type": "code",
   "execution_count": 219,
   "metadata": {
    "Collapsed": "false"
   },
   "outputs": [
    {
     "name": "stdout",
     "output_type": "stream",
     "text": [
      "Epoch 1/10\n"
     ]
    },
    {
     "ename": "UnimplementedError",
     "evalue": " Cast string to float is not supported\n\t [[node ranking_12/mean_squared_error/Cast (defined at /Users/jinseok/opt/anaconda3/lib/python3.7/site-packages/tensorflow_recommenders/tasks/ranking.py:86) ]] [Op:__inference_train_function_26934]\n\nErrors may have originated from an input operation.\nInput Source operations connected to node ranking_12/mean_squared_error/Cast:\n IteratorGetNext (defined at <ipython-input-219-5dc611e75305>:1)\n\nFunction call stack:\ntrain_function\n",
     "output_type": "error",
     "traceback": [
      "\u001b[0;31m---------------------------------------------------------------------------\u001b[0m",
      "\u001b[0;31mUnimplementedError\u001b[0m                        Traceback (most recent call last)",
      "\u001b[0;32m<ipython-input-219-5dc611e75305>\u001b[0m in \u001b[0;36m<module>\u001b[0;34m\u001b[0m\n\u001b[0;32m----> 1\u001b[0;31m \u001b[0mmodel\u001b[0m\u001b[0;34m.\u001b[0m\u001b[0mfit\u001b[0m\u001b[0;34m(\u001b[0m\u001b[0mcached_train\u001b[0m\u001b[0;34m,\u001b[0m  \u001b[0mepochs\u001b[0m\u001b[0;34m=\u001b[0m\u001b[0;36m10\u001b[0m\u001b[0;34m,\u001b[0m \u001b[0mverbose\u001b[0m\u001b[0;34m=\u001b[0m\u001b[0;32mTrue\u001b[0m\u001b[0;34m)\u001b[0m\u001b[0;34m\u001b[0m\u001b[0;34m\u001b[0m\u001b[0m\n\u001b[0m",
      "\u001b[0;32m~/opt/anaconda3/lib/python3.7/site-packages/tensorflow/python/keras/engine/training.py\u001b[0m in \u001b[0;36mfit\u001b[0;34m(self, x, y, batch_size, epochs, verbose, callbacks, validation_split, validation_data, shuffle, class_weight, sample_weight, initial_epoch, steps_per_epoch, validation_steps, validation_batch_size, validation_freq, max_queue_size, workers, use_multiprocessing)\u001b[0m\n\u001b[1;32m   1098\u001b[0m                 _r=1):\n\u001b[1;32m   1099\u001b[0m               \u001b[0mcallbacks\u001b[0m\u001b[0;34m.\u001b[0m\u001b[0mon_train_batch_begin\u001b[0m\u001b[0;34m(\u001b[0m\u001b[0mstep\u001b[0m\u001b[0;34m)\u001b[0m\u001b[0;34m\u001b[0m\u001b[0;34m\u001b[0m\u001b[0m\n\u001b[0;32m-> 1100\u001b[0;31m               \u001b[0mtmp_logs\u001b[0m \u001b[0;34m=\u001b[0m \u001b[0mself\u001b[0m\u001b[0;34m.\u001b[0m\u001b[0mtrain_function\u001b[0m\u001b[0;34m(\u001b[0m\u001b[0miterator\u001b[0m\u001b[0;34m)\u001b[0m\u001b[0;34m\u001b[0m\u001b[0;34m\u001b[0m\u001b[0m\n\u001b[0m\u001b[1;32m   1101\u001b[0m               \u001b[0;32mif\u001b[0m \u001b[0mdata_handler\u001b[0m\u001b[0;34m.\u001b[0m\u001b[0mshould_sync\u001b[0m\u001b[0;34m:\u001b[0m\u001b[0;34m\u001b[0m\u001b[0;34m\u001b[0m\u001b[0m\n\u001b[1;32m   1102\u001b[0m                 \u001b[0mcontext\u001b[0m\u001b[0;34m.\u001b[0m\u001b[0masync_wait\u001b[0m\u001b[0;34m(\u001b[0m\u001b[0;34m)\u001b[0m\u001b[0;34m\u001b[0m\u001b[0;34m\u001b[0m\u001b[0m\n",
      "\u001b[0;32m~/opt/anaconda3/lib/python3.7/site-packages/tensorflow/python/eager/def_function.py\u001b[0m in \u001b[0;36m__call__\u001b[0;34m(self, *args, **kwds)\u001b[0m\n\u001b[1;32m    826\u001b[0m     \u001b[0mtracing_count\u001b[0m \u001b[0;34m=\u001b[0m \u001b[0mself\u001b[0m\u001b[0;34m.\u001b[0m\u001b[0mexperimental_get_tracing_count\u001b[0m\u001b[0;34m(\u001b[0m\u001b[0;34m)\u001b[0m\u001b[0;34m\u001b[0m\u001b[0;34m\u001b[0m\u001b[0m\n\u001b[1;32m    827\u001b[0m     \u001b[0;32mwith\u001b[0m \u001b[0mtrace\u001b[0m\u001b[0;34m.\u001b[0m\u001b[0mTrace\u001b[0m\u001b[0;34m(\u001b[0m\u001b[0mself\u001b[0m\u001b[0;34m.\u001b[0m\u001b[0m_name\u001b[0m\u001b[0;34m)\u001b[0m \u001b[0;32mas\u001b[0m \u001b[0mtm\u001b[0m\u001b[0;34m:\u001b[0m\u001b[0;34m\u001b[0m\u001b[0;34m\u001b[0m\u001b[0m\n\u001b[0;32m--> 828\u001b[0;31m       \u001b[0mresult\u001b[0m \u001b[0;34m=\u001b[0m \u001b[0mself\u001b[0m\u001b[0;34m.\u001b[0m\u001b[0m_call\u001b[0m\u001b[0;34m(\u001b[0m\u001b[0;34m*\u001b[0m\u001b[0margs\u001b[0m\u001b[0;34m,\u001b[0m \u001b[0;34m**\u001b[0m\u001b[0mkwds\u001b[0m\u001b[0;34m)\u001b[0m\u001b[0;34m\u001b[0m\u001b[0;34m\u001b[0m\u001b[0m\n\u001b[0m\u001b[1;32m    829\u001b[0m       \u001b[0mcompiler\u001b[0m \u001b[0;34m=\u001b[0m \u001b[0;34m\"xla\"\u001b[0m \u001b[0;32mif\u001b[0m \u001b[0mself\u001b[0m\u001b[0;34m.\u001b[0m\u001b[0m_experimental_compile\u001b[0m \u001b[0;32melse\u001b[0m \u001b[0;34m\"nonXla\"\u001b[0m\u001b[0;34m\u001b[0m\u001b[0;34m\u001b[0m\u001b[0m\n\u001b[1;32m    830\u001b[0m       \u001b[0mnew_tracing_count\u001b[0m \u001b[0;34m=\u001b[0m \u001b[0mself\u001b[0m\u001b[0;34m.\u001b[0m\u001b[0mexperimental_get_tracing_count\u001b[0m\u001b[0;34m(\u001b[0m\u001b[0;34m)\u001b[0m\u001b[0;34m\u001b[0m\u001b[0;34m\u001b[0m\u001b[0m\n",
      "\u001b[0;32m~/opt/anaconda3/lib/python3.7/site-packages/tensorflow/python/eager/def_function.py\u001b[0m in \u001b[0;36m_call\u001b[0;34m(self, *args, **kwds)\u001b[0m\n\u001b[1;32m    886\u001b[0m         \u001b[0;31m# Lifting succeeded, so variables are initialized and we can run the\u001b[0m\u001b[0;34m\u001b[0m\u001b[0;34m\u001b[0m\u001b[0;34m\u001b[0m\u001b[0m\n\u001b[1;32m    887\u001b[0m         \u001b[0;31m# stateless function.\u001b[0m\u001b[0;34m\u001b[0m\u001b[0;34m\u001b[0m\u001b[0;34m\u001b[0m\u001b[0m\n\u001b[0;32m--> 888\u001b[0;31m         \u001b[0;32mreturn\u001b[0m \u001b[0mself\u001b[0m\u001b[0;34m.\u001b[0m\u001b[0m_stateless_fn\u001b[0m\u001b[0;34m(\u001b[0m\u001b[0;34m*\u001b[0m\u001b[0margs\u001b[0m\u001b[0;34m,\u001b[0m \u001b[0;34m**\u001b[0m\u001b[0mkwds\u001b[0m\u001b[0;34m)\u001b[0m\u001b[0;34m\u001b[0m\u001b[0;34m\u001b[0m\u001b[0m\n\u001b[0m\u001b[1;32m    889\u001b[0m     \u001b[0;32melse\u001b[0m\u001b[0;34m:\u001b[0m\u001b[0;34m\u001b[0m\u001b[0;34m\u001b[0m\u001b[0m\n\u001b[1;32m    890\u001b[0m       \u001b[0m_\u001b[0m\u001b[0;34m,\u001b[0m \u001b[0m_\u001b[0m\u001b[0;34m,\u001b[0m \u001b[0m_\u001b[0m\u001b[0;34m,\u001b[0m \u001b[0mfiltered_flat_args\u001b[0m \u001b[0;34m=\u001b[0m\u001b[0;31m \u001b[0m\u001b[0;31m\\\u001b[0m\u001b[0;34m\u001b[0m\u001b[0;34m\u001b[0m\u001b[0m\n",
      "\u001b[0;32m~/opt/anaconda3/lib/python3.7/site-packages/tensorflow/python/eager/function.py\u001b[0m in \u001b[0;36m__call__\u001b[0;34m(self, *args, **kwargs)\u001b[0m\n\u001b[1;32m   2941\u001b[0m        filtered_flat_args) = self._maybe_define_function(args, kwargs)\n\u001b[1;32m   2942\u001b[0m     return graph_function._call_flat(\n\u001b[0;32m-> 2943\u001b[0;31m         filtered_flat_args, captured_inputs=graph_function.captured_inputs)  # pylint: disable=protected-access\n\u001b[0m\u001b[1;32m   2944\u001b[0m \u001b[0;34m\u001b[0m\u001b[0m\n\u001b[1;32m   2945\u001b[0m   \u001b[0;34m@\u001b[0m\u001b[0mproperty\u001b[0m\u001b[0;34m\u001b[0m\u001b[0;34m\u001b[0m\u001b[0m\n",
      "\u001b[0;32m~/opt/anaconda3/lib/python3.7/site-packages/tensorflow/python/eager/function.py\u001b[0m in \u001b[0;36m_call_flat\u001b[0;34m(self, args, captured_inputs, cancellation_manager)\u001b[0m\n\u001b[1;32m   1917\u001b[0m       \u001b[0;31m# No tape is watching; skip to running the function.\u001b[0m\u001b[0;34m\u001b[0m\u001b[0;34m\u001b[0m\u001b[0;34m\u001b[0m\u001b[0m\n\u001b[1;32m   1918\u001b[0m       return self._build_call_outputs(self._inference_function.call(\n\u001b[0;32m-> 1919\u001b[0;31m           ctx, args, cancellation_manager=cancellation_manager))\n\u001b[0m\u001b[1;32m   1920\u001b[0m     forward_backward = self._select_forward_and_backward_functions(\n\u001b[1;32m   1921\u001b[0m         \u001b[0margs\u001b[0m\u001b[0;34m,\u001b[0m\u001b[0;34m\u001b[0m\u001b[0;34m\u001b[0m\u001b[0m\n",
      "\u001b[0;32m~/opt/anaconda3/lib/python3.7/site-packages/tensorflow/python/eager/function.py\u001b[0m in \u001b[0;36mcall\u001b[0;34m(self, ctx, args, cancellation_manager)\u001b[0m\n\u001b[1;32m    558\u001b[0m               \u001b[0minputs\u001b[0m\u001b[0;34m=\u001b[0m\u001b[0margs\u001b[0m\u001b[0;34m,\u001b[0m\u001b[0;34m\u001b[0m\u001b[0;34m\u001b[0m\u001b[0m\n\u001b[1;32m    559\u001b[0m               \u001b[0mattrs\u001b[0m\u001b[0;34m=\u001b[0m\u001b[0mattrs\u001b[0m\u001b[0;34m,\u001b[0m\u001b[0;34m\u001b[0m\u001b[0;34m\u001b[0m\u001b[0m\n\u001b[0;32m--> 560\u001b[0;31m               ctx=ctx)\n\u001b[0m\u001b[1;32m    561\u001b[0m         \u001b[0;32melse\u001b[0m\u001b[0;34m:\u001b[0m\u001b[0;34m\u001b[0m\u001b[0;34m\u001b[0m\u001b[0m\n\u001b[1;32m    562\u001b[0m           outputs = execute.execute_with_cancellation(\n",
      "\u001b[0;32m~/opt/anaconda3/lib/python3.7/site-packages/tensorflow/python/eager/execute.py\u001b[0m in \u001b[0;36mquick_execute\u001b[0;34m(op_name, num_outputs, inputs, attrs, ctx, name)\u001b[0m\n\u001b[1;32m     58\u001b[0m     \u001b[0mctx\u001b[0m\u001b[0;34m.\u001b[0m\u001b[0mensure_initialized\u001b[0m\u001b[0;34m(\u001b[0m\u001b[0;34m)\u001b[0m\u001b[0;34m\u001b[0m\u001b[0;34m\u001b[0m\u001b[0m\n\u001b[1;32m     59\u001b[0m     tensors = pywrap_tfe.TFE_Py_Execute(ctx._handle, device_name, op_name,\n\u001b[0;32m---> 60\u001b[0;31m                                         inputs, attrs, num_outputs)\n\u001b[0m\u001b[1;32m     61\u001b[0m   \u001b[0;32mexcept\u001b[0m \u001b[0mcore\u001b[0m\u001b[0;34m.\u001b[0m\u001b[0m_NotOkStatusException\u001b[0m \u001b[0;32mas\u001b[0m \u001b[0me\u001b[0m\u001b[0;34m:\u001b[0m\u001b[0;34m\u001b[0m\u001b[0;34m\u001b[0m\u001b[0m\n\u001b[1;32m     62\u001b[0m     \u001b[0;32mif\u001b[0m \u001b[0mname\u001b[0m \u001b[0;32mis\u001b[0m \u001b[0;32mnot\u001b[0m \u001b[0;32mNone\u001b[0m\u001b[0;34m:\u001b[0m\u001b[0;34m\u001b[0m\u001b[0;34m\u001b[0m\u001b[0m\n",
      "\u001b[0;31mUnimplementedError\u001b[0m:  Cast string to float is not supported\n\t [[node ranking_12/mean_squared_error/Cast (defined at /Users/jinseok/opt/anaconda3/lib/python3.7/site-packages/tensorflow_recommenders/tasks/ranking.py:86) ]] [Op:__inference_train_function_26934]\n\nErrors may have originated from an input operation.\nInput Source operations connected to node ranking_12/mean_squared_error/Cast:\n IteratorGetNext (defined at <ipython-input-219-5dc611e75305>:1)\n\nFunction call stack:\ntrain_function\n"
     ]
    }
   ],
   "source": [
    "model.fit(cached_train,  epochs=10, verbose=True)"
   ]
  },
  {
   "cell_type": "code",
   "execution_count": null,
   "metadata": {
    "Collapsed": "false"
   },
   "outputs": [],
   "source": []
  }
 ],
 "metadata": {
  "kernelspec": {
   "display_name": "Python 3",
   "language": "python",
   "name": "python3"
  },
  "language_info": {
   "codemirror_mode": {
    "name": "ipython",
    "version": 3
   },
   "file_extension": ".py",
   "mimetype": "text/x-python",
   "name": "python",
   "nbconvert_exporter": "python",
   "pygments_lexer": "ipython3",
   "version": "3.7.6"
  }
 },
 "nbformat": 4,
 "nbformat_minor": 4
}
